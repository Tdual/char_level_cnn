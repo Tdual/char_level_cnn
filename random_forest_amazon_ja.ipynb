{
 "cells": [
  {
   "cell_type": "code",
   "execution_count": 1,
   "metadata": {},
   "outputs": [
    {
     "name": "stderr",
     "output_type": "stream",
     "text": [
      "/Users/tdual/anaconda2/envs/py3.6/lib/python3.6/site-packages/sklearn/cross_validation.py:41: DeprecationWarning: This module was deprecated in version 0.18 in favor of the model_selection module into which all the refactored classes and functions are moved. Also note that the interface of the new CV iterators are different from that of this module. This module will be removed in 0.20.\n",
      "  \"This module will be removed in 0.20.\", DeprecationWarning)\n",
      "/Users/tdual/anaconda2/envs/py3.6/lib/python3.6/site-packages/sklearn/grid_search.py:42: DeprecationWarning: This module was deprecated in version 0.18 in favor of the model_selection module into which all the refactored classes and functions are moved. This module will be removed in 0.20.\n",
      "  DeprecationWarning)\n"
     ]
    }
   ],
   "source": [
    "from  urllib  import request\n",
    "import logging\n",
    "from pathlib import Path\n",
    "import numpy as np\n",
    "import pandas as pd\n",
    "import re\n",
    "import MeCab\n",
    "from gensim import corpora, models,matutils\n",
    "import random\n",
    "from tqdm import tqdm_notebook as tqdm\n",
    "from sklearn import model_selection\n",
    "from sklearn.ensemble import RandomForestClassifier\n",
    "from sklearn.grid_search import GridSearchCV\n",
    "from sklearn.metrics import classification_report"
   ]
  },
  {
   "cell_type": "code",
   "execution_count": 2,
   "metadata": {},
   "outputs": [],
   "source": [
    "mecab = MeCab.Tagger(\"-Ochasen -d /usr/local/lib/mecab/dic/mecab-ipadic-neologd/\")"
   ]
  },
  {
   "cell_type": "code",
   "execution_count": 3,
   "metadata": {},
   "outputs": [
    {
     "name": "stdout",
     "output_type": "stream",
     "text": [
      "['あそこ', 'あたり', 'あちら']\n"
     ]
    }
   ],
   "source": [
    "res = request.urlopen(\"http://svn.sourceforge.jp/svnroot/slothlib/CSharp/Version1/SlothLib/NLP/Filter/StopWord/word/Japanese.txt\")\n",
    "stopwords = [line.decode(\"utf-8\").strip() for line in res]\n",
    "print(stopwords[:3])"
   ]
  },
  {
   "cell_type": "code",
   "execution_count": 4,
   "metadata": {},
   "outputs": [
    {
     "name": "stdout",
     "output_type": "stream",
     "text": [
      "[\"you've\", 'z', 'zero']\n"
     ]
    }
   ],
   "source": [
    "res = request.urlopen(\"http://svn.sourceforge.jp/svnroot/slothlib/CSharp/Version1/SlothLib/NLP/Filter/StopWord/word/English.txt\")\n",
    "stopwords += [line.decode(\"utf-8\").strip() for line in res]\n",
    "print(stopwords[-3:])"
   ]
  },
  {
   "cell_type": "code",
   "execution_count": 5,
   "metadata": {},
   "outputs": [],
   "source": [
    "class Tokenizer:\n",
    "    def __init__(self, stopwords, parser=None, include_pos=None, exclude_posdetail=None, exclude_reg=None):\n",
    "    \n",
    "        self.stopwords = stopwords\n",
    "        self.include_pos = include_pos if include_pos else  [\"名詞\", \"動詞\", \"形容詞\"]\n",
    "        self.exclude_posdetail = exclude_posdetail if exclude_posdetail else [\"接尾\", \"数\"]\n",
    "        self.exclude_reg = exclude_reg if exclude_reg else r\"$^\"  # no matching reg\n",
    "        if parser:\n",
    "            self.parser = parser\n",
    "        else:\n",
    "            mecab = MeCab.Tagger(\"-Ochasen -d /usr/local/lib/mecab/dic/mecab-ipadic-neologd/\")\n",
    "            self.parser = mecab.parse\n",
    "            \n",
    "\n",
    "    def tokenize(self, text, show_pos=False):\n",
    "        text = re.sub(r\"https?://(?:[-\\w.]|(?:%[\\da-fA-F]{2}))+\", \"\", text)    #URL\n",
    "        text = re.sub(r\"\\\"?([-a-zA-Z0-9.`?{}]+\\.jp)\\\"?\" ,\"\", text)  # xxx.jp \n",
    "        text = text.lower()\n",
    "        l = [line.split(\"\\t\") for line in self.parser(text).split(\"\\n\")]\n",
    "        res = [\n",
    "            i[2] if not show_pos else (i[2],i[3]) for i in l \n",
    "                if len(i) >=4 # has POS.\n",
    "                    and i[3].split(\"-\")[0] in self.include_pos\n",
    "                    and i[3].split(\"-\")[1] not in self.exclude_posdetail\n",
    "                    and not re.search(r\"(-|−)\\d\", i[2])\n",
    "                    and not re.search(self.exclude_reg, i[2])\n",
    "                    and i[2] not in self.stopwords          \n",
    "            ]\n",
    "        return res"
   ]
  },
  {
   "cell_type": "code",
   "execution_count": 6,
   "metadata": {},
   "outputs": [],
   "source": [
    "t = Tokenizer(stopwords, mecab.parse, exclude_reg=r\"\\d(年|月|日)\")"
   ]
  },
  {
   "cell_type": "code",
   "execution_count": 7,
   "metadata": {},
   "outputs": [
    {
     "data": {
      "text/plain": [
       "['認める', '自分自身', '若さ故の過ち']"
      ]
     },
     "execution_count": 7,
     "metadata": {},
     "output_type": "execute_result"
    }
   ],
   "source": [
    "t.tokenize(\"認めたくないものだな。自分自身の若さ故の過ちというものを。\")"
   ]
  },
  {
   "cell_type": "code",
   "execution_count": 8,
   "metadata": {},
   "outputs": [],
   "source": [
    "pos_doc = []\n",
    "neg_doc = []"
   ]
  },
  {
   "cell_type": "code",
   "execution_count": 9,
   "metadata": {},
   "outputs": [
    {
     "data": {
      "application/vnd.jupyter.widget-view+json": {
       "model_id": "58afca792ec845a1be8660bc7b85a8e7",
       "version_major": 2,
       "version_minor": 0
      },
      "text/html": [
       "<p>Failed to display Jupyter Widget of type <code>HBox</code>.</p>\n",
       "<p>\n",
       "  If you're reading this message in the Jupyter Notebook or JupyterLab Notebook, it may mean\n",
       "  that the widgets JavaScript is still loading. If this message persists, it\n",
       "  likely means that the widgets JavaScript library is either not installed or\n",
       "  not enabled. See the <a href=\"https://ipywidgets.readthedocs.io/en/stable/user_install.html\">Jupyter\n",
       "  Widgets Documentation</a> for setup instructions.\n",
       "</p>\n",
       "<p>\n",
       "  If you're reading this message in another frontend (for example, a static\n",
       "  rendering on GitHub or <a href=\"https://nbviewer.jupyter.org/\">NBViewer</a>),\n",
       "  it may mean that your frontend doesn't currently support widgets.\n",
       "</p>\n"
      ],
      "text/plain": [
       "HBox(children=(IntProgress(value=0, max=31206), HTML(value='')))"
      ]
     },
     "metadata": {},
     "output_type": "display_data"
    },
    {
     "name": "stdout",
     "output_type": "stream",
     "text": [
      "\n",
      "[['目当て', '映画', 'やる', 'おる', 'たまたまこ', '作品', '観る', 'なる', '申し訳ない', 'ディズニー映画', '比べる', '地味', 'キャラクター', '感じる', '期待', 'する', 'いる', 'の', '観る', 'いる', '素晴らしい', '映像', '音楽', '魅力', 'キャラクター', '世界観', '引き込む', 'いく', 'ラスト', '近づく', '意外', '展開', '家族愛', '夫婦。', '耐える', 'きれる', '涙', '涙', '周り', '子供達', '親', 'すすり泣く', '声', '映画館', '響く', 'いる', '家族', '友人', '大切さ', '考える', '映画', '家族', '友人', '感謝', 'する', '気持ち', '大切', 'する', '気持ち', 'なる', '娘。', '小さい', 'の', '大きい', 'なる', '見せる', 'Amazon', '発見', 'する', '予約', 'する', '娘', '一緒', '観る', 'の', '楽しみ', '映画館', '見れる', '良い'], ['映画', '見る', 'の', '偶然', 'GW', '最終日', '映画', '見る', '映画館', 'つく', 'の', 'リメンバー・ミー', '泣ける', '広告', '噂', '聞く', 'いる', '疑心暗鬼', '心', 'ある', '号泣', 'する', 'いる', '死者', '美しい', '背景', 'キャラクター', '繊細', '動き', '表情', '最高', '歌声', '愛情', '深い', '内容', 'やる', 'Pixar', 'アニメ', '見る', 'いる', '泣く', 'の', '初め', '涙', 'あふれる', 'くる', 'の', 'わかる', '涙', 'とまる', '後日', '上映期間', '迫る', 'いる', 'の', '見る', 'なる', '鑑賞', '上映', '終了', '間際', 'お客', '一人', '号泣', '是非', 'リメンバー・ミー', '見る', '言葉', '意味', '忘れないで', '意識', 'する', 'みる', 'ほしい', '感じる', 'ある', '幸い', '日本', 'お盆', 'ある', '正直', '言う', '大切', 'する', 'いる', '心', '入れ替える', '大切', 'する', '思う', '忘れる', 'リメンバー・ミー', 'ホント', '素晴らしい', '映画', '心', '揺さぶる', '感動', 'する', '名作'], ['トイ・ストーリー', '監督', 'リー・アンクリッチ', '監督', '見る', '心', '引き付ける', '揺さぶる', '演出', '素晴らしい', '思う', '死ぬ', '人間', '死者', '行く', '残す', '家族', '忘れる', '死ぬ', 'なる', '死者', '存在', '消す', '残酷', '悲しい', '物語', 'キーパーソン', 'なる', '死者', '住人', 'ヘクター', '皆', '忘れる', '存在', '消える', 'しまう', 'の', '描写', '涙', 'する', 'いる', '死ぬ', 'しない', '残す', '忘れる', '限り', 'セリフ', '聞く', 'ある', '大切な人', '死ぬ', '思う', 'いる', '離れ離れ', 'いる', 'メッセージ', '与える', 'くれる', '作品', 'ストーリー', '音楽', '声優', 'スピード感', '映像', '美しい', '全て', '素晴らしい', 'ピクサー', '代表', 'する', '名作', '思う', '劇場公開', '当時', 'アナと雪の女王', '短編', '同時', '上映', 'する', 'の', '素晴らしい', 'オリジナル', '仕上がり', '良い', '思う', '雪だるま', 'オラフ', 'メイン', '非常', '健気', 'かわいらしい', '皆', '愛す', 'キャラクター', 'の', '分かる', '同時', '上映', 'メイン', '作品', '名作', '非常', '贅沢', '映画', '体験'], ['4DX', '観る', '映画館', 'マリーゴールド', '花の匂い', '景色', '感動', 'する', '日本', 'お盆', '似る', 'いる', '風習', '思う', '素敵', 'おもう', '祖父', '会意', '来る', 'いる', 'の', '考える', 'みる', '一手', '歌', 'ギター', '音色', '最高', '映画', '元気', 'もらえる', '今年', 'グレイテスト', 'ショーマン', 'いい', '歌', '素晴らしい', '映画', '多い', 'いい', '音質', '見る', 'お勧め', 'する', '届く', 'マリーゴールド', '香り', 'かぐ', '観る', '藤木直人', 'イケボ', '楽しめる', 'ウンポーコローコー'], ['アメリカ', 'ピクサー・アニメーション・スタジオ', '製作', '105分', '映画', '原題', 'coco', 'COCO', '主人公', '祖母', '映画', '主人公', '歌手', '目指す', 'いる', '設定', 'ある', '歌', '多い', 'ミュージカル', 'いう', 'よい', '舞台', 'メキシコ', '他界', 'する', '先祖', '家族', '会意', 'やって来る', '死者の日', '雰囲気', 'ハロウィン', '似る', '日本', 'お盆', '近い', '舞台', '子孫', '先祖', '祭壇', '祀る', '覚える', 'いる', '限り', '死者', '死者', '存在', '続ける', 'の', '子孫', '先祖', '忘れる', 'しまう', '存在', '消滅', 'する', 'しまう', '設定', '邦題', 'リメンバー・ミー', '忘れないで', '由来', 'する', 'いる', '愛する人', '亡くす', '心', '想う', 'いる', '限り', '永遠に', 'この世', '生きる', 'いる', '心情', '宗教', '有無', 'かかわる', '世界共通', 'ラスト', '主題歌', 'リメンバー・ミー', '効果的', '使う', 'いる', '歌', '詞', '内容', '日本語', '英語', '素晴らしい', '涙', 'ない', 'する', '見る', 'シーン', 'なる', 'いる', '歌', '入る', '外国映画', '日本語', '吹き替え', 'オリジナル', '比べる', '見劣り', 'する', 'ある', '本作', '主人公', '担当', '石橋', '陽', '彩', '素晴らしい', '日本語版', '楽しめる', '日本人', 'ラッキー', '感じる', 'ほど']]\n"
     ]
    }
   ],
   "source": [
    "with open(\"data/amazon_ja/pos.txt\") as f:\n",
    "    pos_doc = [t.tokenize(doc) for doc in tqdm(f.readlines())]\n",
    "print(pos_doc[:5])"
   ]
  },
  {
   "cell_type": "code",
   "execution_count": 10,
   "metadata": {},
   "outputs": [
    {
     "data": {
      "application/vnd.jupyter.widget-view+json": {
       "model_id": "b3a9880ec62f4076a3fd48458c6b7610",
       "version_major": 2,
       "version_minor": 0
      },
      "text/html": [
       "<p>Failed to display Jupyter Widget of type <code>HBox</code>.</p>\n",
       "<p>\n",
       "  If you're reading this message in the Jupyter Notebook or JupyterLab Notebook, it may mean\n",
       "  that the widgets JavaScript is still loading. If this message persists, it\n",
       "  likely means that the widgets JavaScript library is either not installed or\n",
       "  not enabled. See the <a href=\"https://ipywidgets.readthedocs.io/en/stable/user_install.html\">Jupyter\n",
       "  Widgets Documentation</a> for setup instructions.\n",
       "</p>\n",
       "<p>\n",
       "  If you're reading this message in another frontend (for example, a static\n",
       "  rendering on GitHub or <a href=\"https://nbviewer.jupyter.org/\">NBViewer</a>),\n",
       "  it may mean that your frontend doesn't currently support widgets.\n",
       "</p>\n"
      ],
      "text/plain": [
       "HBox(children=(IntProgress(value=0, max=4002), HTML(value='')))"
      ]
     },
     "metadata": {},
     "output_type": "display_data"
    },
    {
     "name": "stdout",
     "output_type": "stream",
     "text": [
      "\n",
      "[['他人', 'ブック・オブ・ライフ', '観る', 'てる', 'ん', '良い', 'ん'], ['個人', 'MovieNEX', '最大', '旨味', 'Digital Copy', '不便', 'なる', 'しまう', 'MCU', '作品', 'ディズニー', '権限', '作品', 'プライム', 'ビデオ', 'プライム', '会員限定', '追加', 'する', '外出', '潰す', 'Digital Copy', '大変', '便利', 'niconicodrm', 'プラットフォーム', '見る', '発売', '作品', '一方', 'プラットフォーム', 'Google Play', 'デノミ', '視聴', 'なる', 'しまう', 'Google', '吹替え', '視聴', 'niconico', '吹き替え', '字幕', '視聴', '可能', 'コード', '1回', '使用', 'niconico', '登録', 'する', 'コード', 'Google', '使える', 'の', 'niconico', 'Google', '2つ', 'アプリ', '使い分ける', 'ブラックパンサー', '吹き替え', '視聴', 'なる', '細かい', 'しれる', 'めんどくさい', 'なる', '残念', '予想', 'する', 'さら', '残念', 'MCU', '次作', 'インフィニティ・ウォー', 'Digital Copy', '吹き替え', '視聴', 'なる', '考える', '字幕', '見る', '済む', '便利', '非常', '非常', '残念', '改善', 'する', 'いただく'], ['劇場', '感じる', '退屈', '飽きる', '映画', 'コミック', '原作', 'ある', '逸脱', '出来る', 'しょうが', 'ハーブ', 'ドラッグ', '飲む', '超人', 'する', '説得力', '車', '乗る', '屋根', '乗る', 'の', 'デフォ', '笑える', '要素', '有る', '全体', 'すごい', 'の', '神秘', 'せい', 'やっつける', 'プロット', 'すぎる'], ['MarBell', 'シリーズ', '面白い', '見る', 'アメリカン', 'コミック', '知る', 'の', 'アクション', '展開', 'わかる', 'Wonder Woman', '敵', 'する', 'いる', '時代', '背景', 'わかる', 'やすい', '設定', 'よい', 'CG', 'つくる', 'ミッションインパッシブル', '張る', '映画', '今後', '出る', '合掌'], ['向ける', '発売', 'タイトル', '相まつ', 'する', 'もらえる', 'kanon', 'air', 'CLANNAD', '楽しめる', '層', 'Little Busters!', 'リライト', 'ついていける', '思う', '他方', 'の', 'しれる', '紙芝居', '超える', '見栄え', '違う', '味わい', '生まれる', 'いる', 'の']]\n"
     ]
    }
   ],
   "source": [
    "with open(\"data/amazon_ja/neg.txt\") as f:\n",
    "    neg_doc = [t.tokenize(doc) for doc in tqdm(f.readlines())]\n",
    "print(neg_doc[:5])"
   ]
  },
  {
   "cell_type": "code",
   "execution_count": 11,
   "metadata": {},
   "outputs": [],
   "source": [
    "d = corpora.Dictionary(pos_doc+neg_doc)"
   ]
  },
  {
   "cell_type": "code",
   "execution_count": 12,
   "metadata": {},
   "outputs": [
    {
     "data": {
      "application/vnd.jupyter.widget-view+json": {
       "model_id": "825ccb00a55a4cc68e16195b62ecbad2",
       "version_major": 2,
       "version_minor": 0
      },
      "text/html": [
       "<p>Failed to display Jupyter Widget of type <code>HBox</code>.</p>\n",
       "<p>\n",
       "  If you're reading this message in the Jupyter Notebook or JupyterLab Notebook, it may mean\n",
       "  that the widgets JavaScript is still loading. If this message persists, it\n",
       "  likely means that the widgets JavaScript library is either not installed or\n",
       "  not enabled. See the <a href=\"https://ipywidgets.readthedocs.io/en/stable/user_install.html\">Jupyter\n",
       "  Widgets Documentation</a> for setup instructions.\n",
       "</p>\n",
       "<p>\n",
       "  If you're reading this message in another frontend (for example, a static\n",
       "  rendering on GitHub or <a href=\"https://nbviewer.jupyter.org/\">NBViewer</a>),\n",
       "  it may mean that your frontend doesn't currently support widgets.\n",
       "</p>\n"
      ],
      "text/plain": [
       "HBox(children=(IntProgress(value=0, max=31206), HTML(value='')))"
      ]
     },
     "metadata": {},
     "output_type": "display_data"
    },
    {
     "name": "stdout",
     "output_type": "stream",
     "text": [
      "\n"
     ]
    }
   ],
   "source": [
    "pos_bow = [d.doc2bow(doc) for doc  in tqdm(pos_doc)]"
   ]
  },
  {
   "cell_type": "code",
   "execution_count": 13,
   "metadata": {},
   "outputs": [
    {
     "data": {
      "application/vnd.jupyter.widget-view+json": {
       "model_id": "81c445cc992745cda8dd4091c8dd3694",
       "version_major": 2,
       "version_minor": 0
      },
      "text/html": [
       "<p>Failed to display Jupyter Widget of type <code>HBox</code>.</p>\n",
       "<p>\n",
       "  If you're reading this message in the Jupyter Notebook or JupyterLab Notebook, it may mean\n",
       "  that the widgets JavaScript is still loading. If this message persists, it\n",
       "  likely means that the widgets JavaScript library is either not installed or\n",
       "  not enabled. See the <a href=\"https://ipywidgets.readthedocs.io/en/stable/user_install.html\">Jupyter\n",
       "  Widgets Documentation</a> for setup instructions.\n",
       "</p>\n",
       "<p>\n",
       "  If you're reading this message in another frontend (for example, a static\n",
       "  rendering on GitHub or <a href=\"https://nbviewer.jupyter.org/\">NBViewer</a>),\n",
       "  it may mean that your frontend doesn't currently support widgets.\n",
       "</p>\n"
      ],
      "text/plain": [
       "HBox(children=(IntProgress(value=0, max=4002), HTML(value='')))"
      ]
     },
     "metadata": {},
     "output_type": "display_data"
    },
    {
     "name": "stdout",
     "output_type": "stream",
     "text": [
      "\n"
     ]
    }
   ],
   "source": [
    "neg_bow = [d.doc2bow(doc) for doc  in tqdm(neg_doc)]"
   ]
  },
  {
   "cell_type": "code",
   "execution_count": 17,
   "metadata": {},
   "outputs": [],
   "source": [
    "df = pd.DataFrame([len(b) for b in pos_bow+neg_bow],columns=[\"length\"])"
   ]
  },
  {
   "cell_type": "code",
   "execution_count": 18,
   "metadata": {},
   "outputs": [
    {
     "data": {
      "text/html": [
       "<div>\n",
       "<style scoped>\n",
       "    .dataframe tbody tr th:only-of-type {\n",
       "        vertical-align: middle;\n",
       "    }\n",
       "\n",
       "    .dataframe tbody tr th {\n",
       "        vertical-align: top;\n",
       "    }\n",
       "\n",
       "    .dataframe thead th {\n",
       "        text-align: right;\n",
       "    }\n",
       "</style>\n",
       "<table border=\"1\" class=\"dataframe\">\n",
       "  <thead>\n",
       "    <tr style=\"text-align: right;\">\n",
       "      <th></th>\n",
       "      <th>length</th>\n",
       "    </tr>\n",
       "  </thead>\n",
       "  <tbody>\n",
       "    <tr>\n",
       "      <th>0</th>\n",
       "      <td>60</td>\n",
       "    </tr>\n",
       "    <tr>\n",
       "      <th>1</th>\n",
       "      <td>73</td>\n",
       "    </tr>\n",
       "    <tr>\n",
       "      <th>2</th>\n",
       "      <td>76</td>\n",
       "    </tr>\n",
       "    <tr>\n",
       "      <th>3</th>\n",
       "      <td>46</td>\n",
       "    </tr>\n",
       "    <tr>\n",
       "      <th>4</th>\n",
       "      <td>94</td>\n",
       "    </tr>\n",
       "  </tbody>\n",
       "</table>\n",
       "</div>"
      ],
      "text/plain": [
       "   length\n",
       "0      60\n",
       "1      73\n",
       "2      76\n",
       "3      46\n",
       "4      94"
      ]
     },
     "execution_count": 18,
     "metadata": {},
     "output_type": "execute_result"
    }
   ],
   "source": [
    "df.head()"
   ]
  },
  {
   "cell_type": "code",
   "execution_count": 19,
   "metadata": {},
   "outputs": [
    {
     "data": {
      "text/html": [
       "<div>\n",
       "<style scoped>\n",
       "    .dataframe tbody tr th:only-of-type {\n",
       "        vertical-align: middle;\n",
       "    }\n",
       "\n",
       "    .dataframe tbody tr th {\n",
       "        vertical-align: top;\n",
       "    }\n",
       "\n",
       "    .dataframe thead th {\n",
       "        text-align: right;\n",
       "    }\n",
       "</style>\n",
       "<table border=\"1\" class=\"dataframe\">\n",
       "  <thead>\n",
       "    <tr style=\"text-align: right;\">\n",
       "      <th></th>\n",
       "      <th>length</th>\n",
       "    </tr>\n",
       "  </thead>\n",
       "  <tbody>\n",
       "    <tr>\n",
       "      <th>count</th>\n",
       "      <td>35208.000000</td>\n",
       "    </tr>\n",
       "    <tr>\n",
       "      <th>mean</th>\n",
       "      <td>22.224523</td>\n",
       "    </tr>\n",
       "    <tr>\n",
       "      <th>std</th>\n",
       "      <td>21.811964</td>\n",
       "    </tr>\n",
       "    <tr>\n",
       "      <th>min</th>\n",
       "      <td>1.000000</td>\n",
       "    </tr>\n",
       "    <tr>\n",
       "      <th>25%</th>\n",
       "      <td>11.000000</td>\n",
       "    </tr>\n",
       "    <tr>\n",
       "      <th>50%</th>\n",
       "      <td>17.000000</td>\n",
       "    </tr>\n",
       "    <tr>\n",
       "      <th>75%</th>\n",
       "      <td>27.000000</td>\n",
       "    </tr>\n",
       "    <tr>\n",
       "      <th>max</th>\n",
       "      <td>803.000000</td>\n",
       "    </tr>\n",
       "  </tbody>\n",
       "</table>\n",
       "</div>"
      ],
      "text/plain": [
       "             length\n",
       "count  35208.000000\n",
       "mean      22.224523\n",
       "std       21.811964\n",
       "min        1.000000\n",
       "25%       11.000000\n",
       "50%       17.000000\n",
       "75%       27.000000\n",
       "max      803.000000"
      ]
     },
     "execution_count": 19,
     "metadata": {},
     "output_type": "execute_result"
    }
   ],
   "source": [
    "df.describe()"
   ]
  },
  {
   "cell_type": "code",
   "execution_count": 20,
   "metadata": {},
   "outputs": [
    {
     "data": {
      "text/plain": [
       "38308"
      ]
     },
     "execution_count": 20,
     "metadata": {},
     "output_type": "execute_result"
    }
   ],
   "source": [
    "len(d)"
   ]
  },
  {
   "cell_type": "code",
   "execution_count": 21,
   "metadata": {},
   "outputs": [],
   "source": [
    "dense = list(matutils.corpus2dense(pos_bow+neg_bow,  num_terms=len(d)))"
   ]
  },
  {
   "cell_type": "code",
   "execution_count": 22,
   "metadata": {},
   "outputs": [],
   "source": [
    "dense = np.array(dense)"
   ]
  },
  {
   "cell_type": "code",
   "execution_count": 23,
   "metadata": {},
   "outputs": [
    {
     "data": {
      "text/plain": [
       "(38308, 35208)"
      ]
     },
     "execution_count": 23,
     "metadata": {},
     "output_type": "execute_result"
    }
   ],
   "source": [
    "dense.shape"
   ]
  },
  {
   "cell_type": "code",
   "execution_count": 24,
   "metadata": {},
   "outputs": [
    {
     "name": "stdout",
     "output_type": "stream",
     "text": [
      "31206\n",
      "4002\n"
     ]
    }
   ],
   "source": [
    "pos_label = [1 for b in pos_doc]\n",
    "neg_label = [0 for b in neg_doc]\n",
    "print(len(pos_label))\n",
    "print(len(neg_label))"
   ]
  },
  {
   "cell_type": "code",
   "execution_count": 25,
   "metadata": {},
   "outputs": [],
   "source": [
    "label = pos_label + neg_label"
   ]
  },
  {
   "cell_type": "code",
   "execution_count": 26,
   "metadata": {},
   "outputs": [
    {
     "data": {
      "text/plain": [
       "35208"
      ]
     },
     "execution_count": 26,
     "metadata": {},
     "output_type": "execute_result"
    }
   ],
   "source": [
    "len(label)"
   ]
  },
  {
   "cell_type": "code",
   "execution_count": 27,
   "metadata": {},
   "outputs": [],
   "source": [
    "data_train_s, data_test_s, label_train_s, label_test_s = model_selection.train_test_split(dense.T, label, test_size=0.1)"
   ]
  },
  {
   "cell_type": "code",
   "execution_count": 28,
   "metadata": {},
   "outputs": [],
   "source": [
    "estimator = RandomForestClassifier(verbose=True)"
   ]
  },
  {
   "cell_type": "code",
   "execution_count": 29,
   "metadata": {},
   "outputs": [
    {
     "name": "stderr",
     "output_type": "stream",
     "text": [
      "[Parallel(n_jobs=1)]: Done  10 out of  10 | elapsed:  3.8min finished\n"
     ]
    },
    {
     "data": {
      "text/plain": [
       "RandomForestClassifier(bootstrap=True, class_weight=None, criterion='gini',\n",
       "            max_depth=None, max_features='auto', max_leaf_nodes=None,\n",
       "            min_impurity_decrease=0.0, min_impurity_split=None,\n",
       "            min_samples_leaf=1, min_samples_split=2,\n",
       "            min_weight_fraction_leaf=0.0, n_estimators=10, n_jobs=1,\n",
       "            oob_score=False, random_state=None, verbose=True,\n",
       "            warm_start=False)"
      ]
     },
     "execution_count": 29,
     "metadata": {},
     "output_type": "execute_result"
    }
   ],
   "source": [
    "estimator.fit(data_train_s, label_train_s)"
   ]
  },
  {
   "cell_type": "code",
   "execution_count": 30,
   "metadata": {},
   "outputs": [
    {
     "name": "stderr",
     "output_type": "stream",
     "text": [
      "[Parallel(n_jobs=1)]: Done  10 out of  10 | elapsed:    0.1s finished\n"
     ]
    },
    {
     "data": {
      "text/plain": [
       "0.9113888099971599"
      ]
     },
     "execution_count": 30,
     "metadata": {},
     "output_type": "execute_result"
    }
   ],
   "source": [
    "estimator.score(data_test_s, label_test_s)"
   ]
  },
  {
   "cell_type": "code",
   "execution_count": 31,
   "metadata": {},
   "outputs": [],
   "source": [
    "tuned_parameters = [{'n_estimators': [50, 70, 90, 110]}]#, 130, 150]}]#, 'max_features': ['auto', 'sqrt', 'log2', None]}]\n",
    "\n",
    "clf = GridSearchCV(RandomForestClassifier(), tuned_parameters, cv=2, scoring='accuracy', n_jobs=-1)"
   ]
  },
  {
   "cell_type": "code",
   "execution_count": null,
   "metadata": {},
   "outputs": [],
   "source": [
    "clf.fit(data_train_s, label_train_s)"
   ]
  },
  {
   "cell_type": "code",
   "execution_count": null,
   "metadata": {},
   "outputs": [],
   "source": [
    "print(\"==== グリッドサーチ\")\n",
    "print(\"  ベストパラメタ\")\n",
    "print(clf.best_estimator_)"
   ]
  },
  {
   "cell_type": "code",
   "execution_count": null,
   "metadata": {},
   "outputs": [],
   "source": [
    "print(\"トレーニングデータでCVした時の平均スコア\")\n",
    "for params, mean_score, all_scores in clf.grid_scores_:\n",
    "        print(\"{:.3f} (+/- {:.3f}) for {}\".format(mean_score, all_scores.std() / 2, params))"
   ]
  },
  {
   "cell_type": "code",
   "execution_count": null,
   "metadata": {},
   "outputs": [],
   "source": [
    "y_true, y_pred = label_test_s, clf.predict(data_test_s)\n",
    "print(classification_report(y_true, y_pred,target_names=[\"nag\",\"pos\"]))"
   ]
  },
  {
   "cell_type": "code",
   "execution_count": null,
   "metadata": {},
   "outputs": [],
   "source": []
  }
 ],
 "metadata": {
  "kernelspec": {
   "display_name": "Environment (conda_py3.6)",
   "language": "python",
   "name": "conda_py3.6"
  },
  "language_info": {
   "codemirror_mode": {
    "name": "ipython",
    "version": 3
   },
   "file_extension": ".py",
   "mimetype": "text/x-python",
   "name": "python",
   "nbconvert_exporter": "python",
   "pygments_lexer": "ipython3",
   "version": "3.6.4"
  }
 },
 "nbformat": 4,
 "nbformat_minor": 2
}
