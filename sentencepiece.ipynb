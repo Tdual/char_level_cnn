{
 "cells": [
  {
   "cell_type": "code",
   "execution_count": 1,
   "metadata": {},
   "outputs": [
    {
     "name": "stdout",
     "output_type": "stream",
     "text": [
      "Collecting tf-sentencepiece\n",
      "\u001b[?25l  Downloading https://files.pythonhosted.org/packages/f6/77/207e1edc3fe56122ee7360dac0e45fb54ccde3efd640ea6ee354414a70f1/tf_sentencepiece-1.11.0.0.1.5-py2.py3-none-macosx_10_10_x86_64.whl (1.0MB)\n",
      "\u001b[K    100% |████████████████████████████████| 1.0MB 6.3MB/s ta 0:00:01\n",
      "\u001b[?25hInstalling collected packages: tf-sentencepiece\n",
      "Successfully installed tf-sentencepiece-1.11.0.0.1.5\n"
     ]
    }
   ],
   "source": [
    "!pip install tf-sentencepiece"
   ]
  },
  {
   "cell_type": "code",
   "execution_count": 2,
   "metadata": {},
   "outputs": [
    {
     "name": "stdout",
     "output_type": "stream",
     "text": [
      "Collecting sentencepiece\n",
      "\u001b[?25l  Downloading https://files.pythonhosted.org/packages/b0/b1/7be089c825eb4eab96f8b6fb31e8fe157012775206e244e94039a36d137c/sentencepiece-0.1.5-cp36-cp36m-macosx_10_6_x86_64.whl (1.4MB)\n",
      "\u001b[K    100% |████████████████████████████████| 1.4MB 7.4MB/s eta 0:00:01\n",
      "\u001b[?25hInstalling collected packages: sentencepiece\n",
      "Successfully installed sentencepiece-0.1.5\n"
     ]
    }
   ],
   "source": [
    "!pip install sentencepiece"
   ]
  },
  {
   "cell_type": "markdown",
   "metadata": {},
   "source": [
    "https://github.com/google/sentencepiece/blob/master/python/README.md"
   ]
  },
  {
   "cell_type": "code",
   "execution_count": 6,
   "metadata": {},
   "outputs": [
    {
     "name": "stdout",
     "output_type": "stream",
     "text": [
      "書き込み、読み出し、転送速度、いずれも満足です。1600万画素のコンパクトカメラタイプのデジカメに入れて撮影に使い、撮影後はカードリーダに接続して、撮影した膨大な量の画像データをサムネイル表示にしたり、ピックアップした画像をコピペしたりしていますが、とくにストレスを感じることなく、快適に使えています。【Amazon.co.jp限定】の個体は、SDカード本体がシンプルな小さいボール紙に挟まれているだけ。梱包は超シンプルですが、実売価格が安く、性能にも満足出来ているので買って良かったと思っています。耐久性はわかりません。そこは要経過観察ですね。\r\n",
      "d610にて使ってます。初心者ですが、何１つ問題なく使えてます。\r\n",
      "幼稚園での行事の撮影用に買いました。実際にビデオカメラに入れて試しに撮影してみましたが、ちゃんと録画されており問題は今の所ありません。このまま、何事もなく録画できると良いです。\r\n",
      "これまで使っていたSDカードと比べて格段にPCでの写真取り込みが速くなりました。気に入って追加でもう2枚購入しました。32GBまでしか認識できない機器も多いので、現時点ではスピード、価格、容量ともにベストな商品だと思います。\r\n",
      "母が最近よくデジカメを使っていて8ギガが容量いっぱいになったので2度と買い換えなくていいように64を買いました。8ギガの方に入っていたものを丸々移したのですが、問題なく移すことができ、問題なく利用できています。速さの違うものがあり、値段も変わってきますが、ただでさえやすいので90mb／sのものをお勧めします\r\n",
      "嫌厭されがちなamazon限定だったりTranscendの格安なSDですが、問題なく使用できています。もう二年ほどの使用になりますが、データの破損、紛失等は一切ありません。一眼レフで連写や動画撮影をしても特に問題なく使用できています。スロットが二つある方はサブにするのもアリだと思います。仕事で使いたいと考えてる方はなんとも言えませんね。製品の問題云々ではなく気持ちの問題になりそうです。\r\n",
      "デジカメで１年間使いましたが、問題なく使用できます。価格も手ごろで安心して使っています。\r\n",
      "ＮｉｋｏｎＤ５３００に使用してます。記録枚数画像レベル最高で2000枚です。問題なく使用してます。\r\n",
      "大容量でお安かったので購入！iPhoneの画像動画をまとめたり、ハンディカムの記録、車の車載カメラ等々、色々使っています。 特に問題なく使えています。\r\n",
      "こんなに容量いらないけどタイムセールで安かったので購入。書き込みスピードが速いものが欲しかったのでちょうどよかったです。オリンパスの「Stylus 1s」で連写してみましたが、シャッター押している間、速度落ちることなく撮影してくれました。\r\n"
     ]
    }
   ],
   "source": [
    "! head data/amazon_ja/pos.txt"
   ]
  },
  {
   "cell_type": "code",
   "execution_count": 3,
   "metadata": {},
   "outputs": [],
   "source": [
    "import sentencepiece as spm"
   ]
  },
  {
   "cell_type": "code",
   "execution_count": 21,
   "metadata": {},
   "outputs": [],
   "source": [
    "! cat data/amazon_ja/pos.txt   data/amazon_ja/neg.txt > data/amazon_ja/all.txt"
   ]
  },
  {
   "cell_type": "code",
   "execution_count": 22,
   "metadata": {},
   "outputs": [
    {
     "name": "stdout",
     "output_type": "stream",
     "text": [
      "短くしたのでクールグリースを使ってみました。ツヤツヤのしっとりヘアにセットできます。ううん、キープ力が弱い気がする。私は自然ながっちりキープの方がいいのでウェーボ デザインキューブ ドライワックスに乗り換えました。\r\n",
      "ベタベタする。短髪にはおすすめできるが、ある程度髪の毛が長いのであれば、クックグリースや、ジェルをおすすめする。製品自体はいいものだが、重めのヘアスタイルだと、若干合わないと思う。\r\n",
      "臭いが消えているのかよくわからないため。泡立ちは悪い。あまりおすすめできない。\r\n",
      "夏に日焼け止めの上からパンパンするのに購入しました！ベタつく日焼け止めもサラサラです。\r\n",
      "あんまり出番がない様な……ハロウィンメイクの時に白粉がわりに使えるかな\r\n",
      "ニオイ対策になればと思い、購入しましたが、あくまでその場で落とすだけで、対策としては不十分でした。それだけなら星3ぐらいなのですが、しばらく使ううちに脇がかぶれてきて、身体中のあちこちが乾燥で痒くなりました。ボディソープを変えてみたところ、かぶれは収まり、その他痒かった部分も治りました。肌が弱い、乾燥している人にはオススメできません。\r\n",
      "加齢臭対策に購入しましたが、肌がピリピリするようになったので使うのをやめました。また加齢臭対策にも効果はなかったように思われます。\r\n",
      "定期便にするならもっと安くして欲しいです。、、、、、、、、、\r\n",
      "体を洗って流した後にぬるぬるします。神経質な自分には耐え難いです。毎日洗濯してもタオルがだんだんと黒くなっていきます。効果はあるのかないのかわからないです。\r\n",
      "通常のボディーソープより泡立ちは、悪いように感じました。個人的には、この製品の臭いがいまいちでした。\r\n"
     ]
    }
   ],
   "source": [
    "! tail data/amazon_ja/all.txt"
   ]
  },
  {
   "cell_type": "code",
   "execution_count": 23,
   "metadata": {},
   "outputs": [
    {
     "data": {
      "text/plain": [
       "True"
      ]
     },
     "execution_count": 23,
     "metadata": {},
     "output_type": "execute_result"
    }
   ],
   "source": [
    "spm.SentencePieceTrainer.Train('--input=data/amazon_ja/all.txt --model_prefix=m --vocab_size=10000')"
   ]
  },
  {
   "cell_type": "code",
   "execution_count": 24,
   "metadata": {},
   "outputs": [],
   "source": [
    "sp = spm.SentencePieceProcessor()"
   ]
  },
  {
   "cell_type": "code",
   "execution_count": 25,
   "metadata": {},
   "outputs": [
    {
     "data": {
      "text/plain": [
       "True"
      ]
     },
     "execution_count": 25,
     "metadata": {},
     "output_type": "execute_result"
    }
   ],
   "source": [
    "sp.Load(\"m.model\")"
   ]
  },
  {
   "cell_type": "code",
   "execution_count": 26,
   "metadata": {},
   "outputs": [
    {
     "data": {
      "text/plain": [
       "10000"
      ]
     },
     "execution_count": 26,
     "metadata": {},
     "output_type": "execute_result"
    }
   ],
   "source": [
    "sp.GetPieceSize()"
   ]
  },
  {
   "cell_type": "code",
   "execution_count": 27,
   "metadata": {},
   "outputs": [
    {
     "data": {
      "text/plain": [
       "10000"
      ]
     },
     "execution_count": 27,
     "metadata": {},
     "output_type": "execute_result"
    }
   ],
   "source": [
    "len(sp)"
   ]
  },
  {
   "cell_type": "code",
   "execution_count": 28,
   "metadata": {},
   "outputs": [
    {
     "data": {
      "text/plain": [
       "'剤'"
      ]
     },
     "execution_count": 28,
     "metadata": {},
     "output_type": "execute_result"
    }
   ],
   "source": [
    "sp.IdToPiece(1000)"
   ]
  },
  {
   "cell_type": "code",
   "execution_count": 29,
   "metadata": {},
   "outputs": [
    {
     "data": {
      "text/plain": [
       "206"
      ]
     },
     "execution_count": 29,
     "metadata": {},
     "output_type": "execute_result"
    }
   ],
   "source": [
    "sp.PieceToId('あ')"
   ]
  },
  {
   "cell_type": "code",
   "execution_count": 30,
   "metadata": {},
   "outputs": [
    {
     "data": {
      "text/plain": [
       "206"
      ]
     },
     "execution_count": 30,
     "metadata": {},
     "output_type": "execute_result"
    }
   ],
   "source": [
    "sp[\"あ\"]"
   ]
  },
  {
   "cell_type": "code",
   "execution_count": 31,
   "metadata": {},
   "outputs": [
    {
     "data": {
      "text/plain": [
       "['▁', 'それ', 'サ', 'バン', 'ナ', 'でも', '同じ', 'こと', '言え', 'ん', 'の', '?']"
      ]
     },
     "execution_count": 31,
     "metadata": {},
     "output_type": "execute_result"
    }
   ],
   "source": [
    "sp.EncodeAsPieces('それサバンナでも同じこと言えんの？')"
   ]
  },
  {
   "cell_type": "code",
   "execution_count": null,
   "metadata": {},
   "outputs": [],
   "source": []
  }
 ],
 "metadata": {
  "kernelspec": {
   "display_name": "Environment (conda_py3.6)",
   "language": "python",
   "name": "conda_py3.6"
  },
  "language_info": {
   "codemirror_mode": {
    "name": "ipython",
    "version": 3
   },
   "file_extension": ".py",
   "mimetype": "text/x-python",
   "name": "python",
   "nbconvert_exporter": "python",
   "pygments_lexer": "ipython3",
   "version": "3.6.4"
  }
 },
 "nbformat": 4,
 "nbformat_minor": 2
}
