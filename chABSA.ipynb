{
 "cells": [
  {
   "cell_type": "markdown",
   "metadata": {},
   "source": [
    "dataset  \n",
    "https://github.com/chakki-works/chABSA-dataset"
   ]
  },
  {
   "cell_type": "code",
   "execution_count": 20,
   "metadata": {},
   "outputs": [],
   "source": [
    "import pandas as pd\n",
    "from pathlib import Path\n",
    "import json"
   ]
  },
  {
   "cell_type": "code",
   "execution_count": 6,
   "metadata": {},
   "outputs": [],
   "source": [
    "data_dir = \"data/chABSA/chABSA-dataset/\""
   ]
  },
  {
   "cell_type": "code",
   "execution_count": 7,
   "metadata": {},
   "outputs": [],
   "source": [
    "data_path = Path(data_dir)"
   ]
  },
  {
   "cell_type": "code",
   "execution_count": 11,
   "metadata": {},
   "outputs": [],
   "source": [
    "path_list = [p for p in data_path.iterdir()]"
   ]
  },
  {
   "cell_type": "code",
   "execution_count": 13,
   "metadata": {},
   "outputs": [
    {
     "data": {
      "text/plain": [
       "230"
      ]
     },
     "execution_count": 13,
     "metadata": {},
     "output_type": "execute_result"
    }
   ],
   "source": [
    "len(path_list)"
   ]
  },
  {
   "cell_type": "code",
   "execution_count": 12,
   "metadata": {},
   "outputs": [
    {
     "data": {
      "text/plain": [
       "[PosixPath('data/chABSA/chABSA-dataset/e01183_ann.json'),\n",
       " PosixPath('data/chABSA/chABSA-dataset/e02682_ann.json'),\n",
       " PosixPath('data/chABSA/chABSA-dataset/e01018_ann.json'),\n",
       " PosixPath('data/chABSA/chABSA-dataset/e00024_ann.json'),\n",
       " PosixPath('data/chABSA/chABSA-dataset/e23818_ann.json')]"
      ]
     },
     "execution_count": 12,
     "metadata": {},
     "output_type": "execute_result"
    }
   ],
   "source": [
    "path_list[:5]"
   ]
  },
  {
   "cell_type": "code",
   "execution_count": 19,
   "metadata": {},
   "outputs": [
    {
     "name": "stdout",
     "output_type": "stream",
     "text": [
      "{\r",
      "\r\n",
      "  \"header\": {\r",
      "\r\n",
      "    \"document_id\": \"E01183\",\r",
      "\r\n",
      "    \"document_name\": \"株式会社松風\",\r",
      "\r\n",
      "    \"doc_text\": \"有価証券報告書\",\r",
      "\r\n",
      "    \"edi_id\": \"E01183\",\r",
      "\r\n",
      "    \"security_code\": \"79790\",\r",
      "\r\n",
      "    \"category33\": \"精密機器\",\r",
      "\r\n",
      "    \"category17\": \"電機・精密\",\r",
      "\r\n",
      "    \"scale\": \"7\"\r",
      "\r\n"
     ]
    }
   ],
   "source": [
    "! head data/chABSA/chABSA-dataset/e01183_ann.json"
   ]
  },
  {
   "cell_type": "code",
   "execution_count": 50,
   "metadata": {},
   "outputs": [],
   "source": [
    "with open(path_list[0], \"br\") as f:\n",
    "    j =  json.load(f)\n",
    "sentences = j[\"sentences\"]\n",
    "\n",
    "def create_rating(sentences):\n",
    "    rating = []\n",
    "    for obj in sentences:\n",
    "        s = obj[\"sentence\"]\n",
    "        op = obj[\"opinions\"]\n",
    "        porarity = 0\n",
    "        for o in op:\n",
    "            p = o[\"polarity\"]\n",
    "            if p == \"positive\":\n",
    "                porarity += 1\n",
    "            elif p == \"negative\":\n",
    "                porarity -= 1\n",
    "        if porarity !=0 :\n",
    "            rating.append((porarity, s))\n",
    "    return rating"
   ]
  },
  {
   "cell_type": "code",
   "execution_count": 51,
   "metadata": {
    "scrolled": true
   },
   "outputs": [
    {
     "data": {
      "text/plain": [
       "[(1,\n",
       "  '当連結会計年度の世界経済は、米国を中心に景気は概ね堅調に推移しましたが、英国のEU離脱問題による影響のほか、中国をはじめとする新興国経済の減速懸念や米国新政権の政策動向の不確実性など、景気の先行きは不透明な状況が続きました'),\n",
       " (4, '国内経済については、企業収益や雇用・所得環境に底堅さが見られるなど、総じて緩やかな回復基調をたどりました'),\n",
       " (-2,\n",
       "  '当歯科業界におきましては、デジタル化の進展により市場環境は大きく変化しており、世界規模で企業間競争が激化するなど、引き続き厳しい事業環境が続きました'),\n",
       " (-1,\n",
       "  'しかしながら、当連結会計年度の売上高は、為替の円高による影響もあり、22,305百万円と前年同期比670百万円(2.9%)の減収となりました'),\n",
       " (-2,\n",
       "  '営業利益は、減収の影響や積極的な販売活動に伴う費用負担の増加により、1,382百万円と前年同期比186百万円(11.9%)の減益となりました'),\n",
       " (-1,\n",
       "  'これらの新製品に加え、当社の注力分野である化工品やＣＡＤ/ＣＡＭ関連製品が売上に寄与しましたが、市場競争の激化により、人工歯をはじめ既存の主力製品の販売が計画に届かず、前年同期比減収となりました'),\n",
       " (1, '海外では、積極的な拡販戦略が功を奏し、北米や中国で売上が堅調に推移しましたが、為替の円高の影響により、前年同期比減収となりました'),\n",
       " (-2,\n",
       "  'これらの結果、デンタル関連事業の売上高は、20,267百万円と前年同期比732百万円(3.5%)の減収となり、営業利益は1,380百万円と前年同期比134百万円(8.9%)の減益となりました'),\n",
       " (-2,\n",
       "  'ネイル業界におきましては、市場は緩やかな拡大傾向を維持しているものの、ユーザーの低価格志向の高まりを背景に、業界全体で価格競争の様相を呈するなど、事業を取り巻く環境は依然として厳しい状況にあります'),\n",
       " (-2,\n",
       "  '国内では、ジェルネイル製品の新色カラージェルを市場投入するほか、全国各地で製品の優位性を訴求するセミナーを積極展開しましたが、主力製品の「L・E・D GEL Presto」が伸び悩み、売上は低調に推移しました'),\n",
       " (2, '海外では、積極的なプロモーション活動により、米国や台湾においてジェルネイル製品の認知度が高まったことから、売上は好調に推移いたしました'),\n",
       " (-1,\n",
       "  'これらの結果、ネイル関連事業の売上高は、1,944百万円と前年同期比50百万円(2.7%)の増収となりましたが、利益面は、販売費及び一般管理費の増加により、営業損失25百万円と前年同期比47百万円の減益となりました'),\n",
       " (1, 'その他の事業の売上高は、93百万円と前年同期比10百万円(12.8%)の増収となり、営業利益は22百万円とほぼ前年同期並みとなりました')]"
      ]
     },
     "execution_count": 51,
     "metadata": {},
     "output_type": "execute_result"
    }
   ],
   "source": [
    "create_rating(sentences)"
   ]
  },
  {
   "cell_type": "code",
   "execution_count": 52,
   "metadata": {},
   "outputs": [],
   "source": [
    "rating = []\n",
    "for p in path_list:\n",
    "    with open(p, \"br\") as f:\n",
    "        j =  json.load(f)\n",
    "    s = j[\"sentences\"]\n",
    "    rating += create_rating(s)"
   ]
  },
  {
   "cell_type": "code",
   "execution_count": 53,
   "metadata": {},
   "outputs": [
    {
     "data": {
      "text/plain": [
       "2813"
      ]
     },
     "execution_count": 53,
     "metadata": {},
     "output_type": "execute_result"
    }
   ],
   "source": [
    "len(rating)"
   ]
  },
  {
   "cell_type": "code",
   "execution_count": 55,
   "metadata": {},
   "outputs": [],
   "source": [
    "neg =[]\n",
    "pos = []\n",
    "for t in rating:\n",
    "    if t[0] > 0:\n",
    "        pos.append(t[1])\n",
    "    else:\n",
    "        neg.append(t[1])"
   ]
  },
  {
   "cell_type": "code",
   "execution_count": 57,
   "metadata": {},
   "outputs": [
    {
     "data": {
      "text/plain": [
       "1143"
      ]
     },
     "execution_count": 57,
     "metadata": {},
     "output_type": "execute_result"
    }
   ],
   "source": [
    "len(neg)"
   ]
  },
  {
   "cell_type": "code",
   "execution_count": 58,
   "metadata": {},
   "outputs": [
    {
     "data": {
      "text/plain": [
       "1670"
      ]
     },
     "execution_count": 58,
     "metadata": {},
     "output_type": "execute_result"
    }
   ],
   "source": [
    "len(pos)"
   ]
  },
  {
   "cell_type": "code",
   "execution_count": 59,
   "metadata": {},
   "outputs": [],
   "source": [
    "with open(\"data/chABSA/neg.txt\", \"w\") as f:\n",
    "    for s in neg:\n",
    "        r = s + \"\\n\"\n",
    "        f.write(r)"
   ]
  },
  {
   "cell_type": "code",
   "execution_count": 60,
   "metadata": {},
   "outputs": [],
   "source": [
    "with open(\"data/chABSA/pos.txt\", \"w\") as f:\n",
    "    for s in pos:\n",
    "        r = s + \"\\n\"\n",
    "        f.write(r)"
   ]
  },
  {
   "cell_type": "code",
   "execution_count": 61,
   "metadata": {},
   "outputs": [
    {
     "name": "stdout",
     "output_type": "stream",
     "text": [
      "当歯科業界におきましては、デジタル化の進展により市場環境は大きく変化しており、世界規模で企業間競争が激化するなど、引き続き厳しい事業環境が続きました\r\n",
      "しかしながら、当連結会計年度の売上高は、為替の円高による影響もあり、22,305百万円と前年同期比670百万円(2.9%)の減収となりました\r\n",
      "営業利益は、減収の影響や積極的な販売活動に伴う費用負担の増加により、1,382百万円と前年同期比186百万円(11.9%)の減益となりました\r\n",
      "これらの新製品に加え、当社の注力分野である化工品やＣＡＤ/ＣＡＭ関連製品が売上に寄与しましたが、市場競争の激化により、人工歯をはじめ既存の主力製品の販売が計画に届かず、前年同期比減収となりました\r\n",
      "これらの結果、デンタル関連事業の売上高は、20,267百万円と前年同期比732百万円(3.5%)の減収となり、営業利益は1,380百万円と前年同期比134百万円(8.9%)の減益となりました\r\n",
      "ネイル業界におきましては、市場は緩やかな拡大傾向を維持しているものの、ユーザーの低価格志向の高まりを背景に、業界全体で価格競争の様相を呈するなど、事業を取り巻く環境は依然として厳しい状況にあります\r\n",
      "国内では、ジェルネイル製品の新色カラージェルを市場投入するほか、全国各地で製品の優位性を訴求するセミナーを積極展開しましたが、主力製品の「L・E・D GEL Presto」が伸び悩み、売上は低調に推移しました\r\n",
      "これらの結果、ネイル関連事業の売上高は、1,944百万円と前年同期比50百万円(2.7%)の増収となりましたが、利益面は、販売費及び一般管理費の増加により、営業損失25百万円と前年同期比47百万円の減益となりました\r\n",
      "エネルギー業界におきましては、原油価格の先行きが不透明な状況のなか、国内石油製品の構造的な需要減少が続いております\r\n",
      "また、平成28年４月からの電力小売全面自由化に伴い、業界の垣根を越えた業務提携などにより顧客獲得競争が一段と激化しております\r\n"
     ]
    }
   ],
   "source": [
    "! head data/chABSA/neg.txt"
   ]
  },
  {
   "cell_type": "code",
   "execution_count": null,
   "metadata": {},
   "outputs": [],
   "source": []
  }
 ],
 "metadata": {
  "kernelspec": {
   "display_name": "Environment (conda_py3.6)",
   "language": "python",
   "name": "conda_py3.6"
  },
  "language_info": {
   "codemirror_mode": {
    "name": "ipython",
    "version": 3
   },
   "file_extension": ".py",
   "mimetype": "text/x-python",
   "name": "python",
   "nbconvert_exporter": "python",
   "pygments_lexer": "ipython3",
   "version": "3.6.4"
  }
 },
 "nbformat": 4,
 "nbformat_minor": 2
}
