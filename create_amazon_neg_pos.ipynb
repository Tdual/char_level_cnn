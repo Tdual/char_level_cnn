{
 "cells": [
  {
   "cell_type": "code",
   "execution_count": 1,
   "metadata": {},
   "outputs": [],
   "source": [
    "import pandas as pd"
   ]
  },
  {
   "cell_type": "code",
   "execution_count": 2,
   "metadata": {},
   "outputs": [],
   "source": [
    "df_ap = pd.read_csv(\"data/review.csv\",names=[\"rating\", \"review\"])\n",
    "df_book = pd.read_csv(\"data/review_books.csv\",names=[\"rating\", \"review\"])\n",
    "df_game = pd.read_csv(\"data/review_videogames.csv\",names=[\"rating\", \"review\"])\n",
    "df_kichen = pd.read_csv(\"data/review_kitchen.csv\",names=[\"rating\", \"review\"])\n",
    "df_ele = pd.read_csv(\"data/review_electronics.csv\",names=[\"rating\", \"review\"])\n",
    "df_music = pd.read_csv(\"data/review_musical-instruments.csv\",names=[\"rating\", \"review\"])\n",
    "df_diy = pd.read_csv(\"data/review_diy.csv\",names=[\"rating\", \"review\"])"
   ]
  },
  {
   "cell_type": "code",
   "execution_count": 3,
   "metadata": {},
   "outputs": [],
   "source": [
    "df = pd.concat([df_music, df_ele, df_kichen,df_book,df_ap,df_game])"
   ]
  },
  {
   "cell_type": "code",
   "execution_count": 4,
   "metadata": {},
   "outputs": [
    {
     "data": {
      "text/html": [
       "<div>\n",
       "<style scoped>\n",
       "    .dataframe tbody tr th:only-of-type {\n",
       "        vertical-align: middle;\n",
       "    }\n",
       "\n",
       "    .dataframe tbody tr th {\n",
       "        vertical-align: top;\n",
       "    }\n",
       "\n",
       "    .dataframe thead th {\n",
       "        text-align: right;\n",
       "    }\n",
       "</style>\n",
       "<table border=\"1\" class=\"dataframe\">\n",
       "  <thead>\n",
       "    <tr style=\"text-align: right;\">\n",
       "      <th></th>\n",
       "      <th>rating</th>\n",
       "      <th>review</th>\n",
       "    </tr>\n",
       "  </thead>\n",
       "  <tbody>\n",
       "    <tr>\n",
       "      <th>0</th>\n",
       "      <td>5.0</td>\n",
       "      <td>PS4でのボイスチャット、キャプチャ用途で購入しましたマイクは別途持っているのでUSBデバイ...</td>\n",
       "    </tr>\n",
       "    <tr>\n",
       "      <th>1</th>\n",
       "      <td>3.0</td>\n",
       "      <td>このマイクはPCに繋ぐものです。オーディオインターフェース等についているXLRマイク端子に挿...</td>\n",
       "    </tr>\n",
       "    <tr>\n",
       "      <th>2</th>\n",
       "      <td>3.0</td>\n",
       "      <td>単一指向性という割には周りの音を拾っているようで。マイクも個体差で大分違うので今回は私のがは...</td>\n",
       "    </tr>\n",
       "    <tr>\n",
       "      <th>3</th>\n",
       "      <td>5.0</td>\n",
       "      <td>PS4のVC用に購入ヘッドセットで頭が痛くなり肩こり頭痛が酷くなった為、iPhoneのイヤホ...</td>\n",
       "    </tr>\n",
       "    <tr>\n",
       "      <th>4</th>\n",
       "      <td>5.0</td>\n",
       "      <td>ゲーム実況用に購入しました。以前は千円程度のヘッドセットを使っていたのですが少しこもるような...</td>\n",
       "    </tr>\n",
       "  </tbody>\n",
       "</table>\n",
       "</div>"
      ],
      "text/plain": [
       "   rating                                             review\n",
       "0     5.0  PS4でのボイスチャット、キャプチャ用途で購入しましたマイクは別途持っているのでUSBデバイ...\n",
       "1     3.0  このマイクはPCに繋ぐものです。オーディオインターフェース等についているXLRマイク端子に挿...\n",
       "2     3.0  単一指向性という割には周りの音を拾っているようで。マイクも個体差で大分違うので今回は私のがは...\n",
       "3     5.0  PS4のVC用に購入ヘッドセットで頭が痛くなり肩こり頭痛が酷くなった為、iPhoneのイヤホ...\n",
       "4     5.0  ゲーム実況用に購入しました。以前は千円程度のヘッドセットを使っていたのですが少しこもるような..."
      ]
     },
     "execution_count": 4,
     "metadata": {},
     "output_type": "execute_result"
    }
   ],
   "source": [
    "df.head()"
   ]
  },
  {
   "cell_type": "code",
   "execution_count": 5,
   "metadata": {},
   "outputs": [
    {
     "data": {
      "text/plain": [
       "21648"
      ]
     },
     "execution_count": 5,
     "metadata": {},
     "output_type": "execute_result"
    }
   ],
   "source": [
    "len(df.index)"
   ]
  },
  {
   "cell_type": "code",
   "execution_count": 6,
   "metadata": {},
   "outputs": [
    {
     "data": {
      "text/html": [
       "<div>\n",
       "<style scoped>\n",
       "    .dataframe tbody tr th:only-of-type {\n",
       "        vertical-align: middle;\n",
       "    }\n",
       "\n",
       "    .dataframe tbody tr th {\n",
       "        vertical-align: top;\n",
       "    }\n",
       "\n",
       "    .dataframe thead th {\n",
       "        text-align: right;\n",
       "    }\n",
       "</style>\n",
       "<table border=\"1\" class=\"dataframe\">\n",
       "  <thead>\n",
       "    <tr style=\"text-align: right;\">\n",
       "      <th></th>\n",
       "      <th>review</th>\n",
       "    </tr>\n",
       "    <tr>\n",
       "      <th>rating</th>\n",
       "      <th></th>\n",
       "    </tr>\n",
       "  </thead>\n",
       "  <tbody>\n",
       "    <tr>\n",
       "      <th>1.0</th>\n",
       "      <td>1053</td>\n",
       "    </tr>\n",
       "    <tr>\n",
       "      <th>2.0</th>\n",
       "      <td>764</td>\n",
       "    </tr>\n",
       "    <tr>\n",
       "      <th>3.0</th>\n",
       "      <td>1784</td>\n",
       "    </tr>\n",
       "    <tr>\n",
       "      <th>4.0</th>\n",
       "      <td>4653</td>\n",
       "    </tr>\n",
       "    <tr>\n",
       "      <th>5.0</th>\n",
       "      <td>13394</td>\n",
       "    </tr>\n",
       "  </tbody>\n",
       "</table>\n",
       "</div>"
      ],
      "text/plain": [
       "        review\n",
       "rating        \n",
       "1.0       1053\n",
       "2.0        764\n",
       "3.0       1784\n",
       "4.0       4653\n",
       "5.0      13394"
      ]
     },
     "execution_count": 6,
     "metadata": {},
     "output_type": "execute_result"
    }
   ],
   "source": [
    "df.groupby(\"rating\").count()"
   ]
  },
  {
   "cell_type": "code",
   "execution_count": 7,
   "metadata": {},
   "outputs": [],
   "source": [
    "#! mkdir data/amazon_ja"
   ]
  },
  {
   "cell_type": "code",
   "execution_count": 8,
   "metadata": {},
   "outputs": [],
   "source": [
    "pos = []\n",
    "neg = []\n",
    "for r in df.iterrows():\n",
    "    if r[1][\"rating\"] > 4:  #exclude 4\n",
    "        pos.append(r[1][\"review\"])\n",
    "    elif r[1][\"rating\"] < 4:\n",
    "        neg.append(r[1][\"review\"])"
   ]
  },
  {
   "cell_type": "code",
   "execution_count": 9,
   "metadata": {},
   "outputs": [
    {
     "data": {
      "text/plain": [
       "13394"
      ]
     },
     "execution_count": 9,
     "metadata": {},
     "output_type": "execute_result"
    }
   ],
   "source": [
    "len(pos)"
   ]
  },
  {
   "cell_type": "code",
   "execution_count": 10,
   "metadata": {},
   "outputs": [
    {
     "data": {
      "text/plain": [
       "3601"
      ]
     },
     "execution_count": 10,
     "metadata": {},
     "output_type": "execute_result"
    }
   ],
   "source": [
    "len(neg)"
   ]
  },
  {
   "cell_type": "code",
   "execution_count": 11,
   "metadata": {},
   "outputs": [
    {
     "data": {
      "text/plain": [
       "0.26885172465282964"
      ]
     },
     "execution_count": 11,
     "metadata": {},
     "output_type": "execute_result"
    }
   ],
   "source": [
    "len(neg)/len(pos)"
   ]
  },
  {
   "cell_type": "code",
   "execution_count": 12,
   "metadata": {},
   "outputs": [],
   "source": [
    "dirname = \"data/amazon_ja\"\n",
    "from pathlib import Path\n",
    "dirname = Path(dirname)"
   ]
  },
  {
   "cell_type": "code",
   "execution_count": 13,
   "metadata": {},
   "outputs": [],
   "source": [
    "with open(dirname / \"neg.txt\", \"w\") as f:\n",
    "    for s in neg:\n",
    "        r = s + \"\\n\"\n",
    "        f.write(r)\n",
    "        \n",
    "with open(dirname / \"pos.txt\", \"w\") as f:\n",
    "    for s in pos:\n",
    "        r = s + \"\\n\"\n",
    "        f.write(r)"
   ]
  },
  {
   "cell_type": "code",
   "execution_count": 14,
   "metadata": {},
   "outputs": [
    {
     "name": "stdout",
     "output_type": "stream",
     "text": [
      "このマイクはPCに繋ぐものです。オーディオインターフェース等についているXLRマイク端子に挿しても使えません。マイク自体を評価するなら普通に使えるマイクですね。ボーカル録音に使うなら普通にSM58買ったほうが長持ちすると思う。\r\n",
      "単一指向性という割には周りの音を拾っているようで。マイクも個体差で大分違うので今回は私のがはずれだっただけかも。ほんと小さな確率なんでしょうけどね。ヘッドセット長時間しすぎて頭が痛くなった時用に今でも使ってます。スタンドは役に立たないので、ぐにゃぐにゃできるスタンドに買いなおしています。口元３センチにないと意味ないですからね。\r\n",
      "Skypeを使うときに使ってます音は問題無いと思いますサイズが少し大きいのでちょっと邪魔です\r\n",
      "オーディオボックスを繋ぐと、マイク本体をオフにしている時でも、妙な「ビーッ」という音が流れます。恐らくは環境に左右されるのでしょうが、他のサイトで同じようなことを言っている方が居たので、そこまでのレアケースではないかと思います。本体には別に文句はないので星３です。妙な音が入って困っている方は、PC本体のマイクジャックに直接マイクを繋いで使用しましょう。\r\n",
      "PCにそのまま刺して使えるのは便利です。Win、Mac両方で歌の練習に利用しましたが、音がこもりがちで、録音の音量が小さいです。また、スタジオ用などの高価なマイクと比べると、自分の声が全く違うように聞こえます。家でたまに遊ぶ用として使うものだと思います。\r\n",
      "DiscordやSkype等で利用する場合は、相手側に音量を上げてもらったり自分のマイクにブーストをかける等で対応できます。Youtubeの録音用などで利用しようとすると、口元にマイクを持ってこないと音が小さすぎます。マイクブーストをかけると、ホワイトノイズが大きくなるので聞くに堪えない動画になってしまう。\r\n",
      "子供のチャットゲーム用に購入。反響しないのでいいと思うのですが、いまいち声が入っているのか分からない感じがします。しかも、テレビから離れてゲームをするので、今はマイク付きのイヤホンを使っています。\r\n",
      "問題なく利用できてます。ノイズなども特に感じません。一点だけ言えば、割と音を拾う距離が短い気がします。口元に近づけたら相当拾いますが、少し話すとかなり遠くから聞こえる感じです。までも、価格も価格ですので、音質等の事を考えると上出来なんじゃないでしょうか。USBとミニジャック両方使えるタイプなのでこれはかなり良い点だと思います。\r\n",
      "とにかく音が小さい。ゲインを上げたらすぐに電子音的な音が入る1センチ～3センチくらい口元に寄せれるなら大丈夫そうです。僕はアームを使用して口元に寄せて使ってます。\r\n",
      "なんかノイズ音が入ってるみたい自分ではわからないんですが。最悪です\r\n"
     ]
    }
   ],
   "source": [
    "! head ./data/amazon_ja/neg.txt"
   ]
  },
  {
   "cell_type": "code",
   "execution_count": null,
   "metadata": {},
   "outputs": [],
   "source": []
  }
 ],
 "metadata": {
  "kernelspec": {
   "display_name": "Environment (conda_py3.6)",
   "language": "python",
   "name": "conda_py3.6"
  },
  "language_info": {
   "codemirror_mode": {
    "name": "ipython",
    "version": 3
   },
   "file_extension": ".py",
   "mimetype": "text/x-python",
   "name": "python",
   "nbconvert_exporter": "python",
   "pygments_lexer": "ipython3",
   "version": "3.6.4"
  }
 },
 "nbformat": 4,
 "nbformat_minor": 2
}
