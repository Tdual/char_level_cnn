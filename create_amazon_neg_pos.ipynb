{
 "cells": [
  {
   "cell_type": "code",
   "execution_count": 54,
   "metadata": {},
   "outputs": [],
   "source": [
    "import pandas as pd\n",
    "from pathlib import Path\n",
    "from tqdm import tqdm_notebook as tqdm"
   ]
  },
  {
   "cell_type": "code",
   "execution_count": 55,
   "metadata": {},
   "outputs": [],
   "source": [
    "dirname = \"data/amazon_ja\"\n",
    "dirname = Path(dirname)"
   ]
  },
  {
   "cell_type": "code",
   "execution_count": 56,
   "metadata": {},
   "outputs": [
    {
     "data": {
      "text/plain": [
       "[PosixPath('data/amazon_ja/review_shoes.csv'),\n",
       " PosixPath('data/amazon_ja/review_dvd.csv'),\n",
       " PosixPath('data/amazon_ja/review_jewelry.csv'),\n",
       " PosixPath('data/amazon_ja/review_software.csv'),\n",
       " PosixPath('data/amazon_ja/review_automotive.csv'),\n",
       " PosixPath('data/amazon_ja/review_musical-instruments.csv'),\n",
       " PosixPath('data/amazon_ja/review_videogames.csv'),\n",
       " PosixPath('data/amazon_ja/review_amazon-devices.csv'),\n",
       " PosixPath('data/amazon_ja/review_kitchen.csv'),\n",
       " PosixPath('data/amazon_ja/review_sports.csv'),\n",
       " PosixPath('data/amazon_ja/review_pet-supplies.csv'),\n",
       " PosixPath('data/amazon_ja/review_watch.csv'),\n",
       " PosixPath('data/amazon_ja/review.csv'),\n",
       " PosixPath('data/amazon_ja/review_diy.csv'),\n",
       " PosixPath('data/amazon_ja/review_books.csv'),\n",
       " PosixPath('data/amazon_ja/review_appliances.csv'),\n",
       " PosixPath('data/amazon_ja/review_instant-video.csv'),\n",
       " PosixPath('data/amazon_ja/review_electronics.csv'),\n",
       " PosixPath('data/amazon_ja/review_toys.csv'),\n",
       " PosixPath('data/amazon_ja/review_beauty.csv')]"
      ]
     },
     "execution_count": 56,
     "metadata": {},
     "output_type": "execute_result"
    }
   ],
   "source": [
    "[c for c in dirname.glob(\"*.csv\")]"
   ]
  },
  {
   "cell_type": "code",
   "execution_count": 57,
   "metadata": {},
   "outputs": [],
   "source": [
    "names=[\"rating\", \"review\"]"
   ]
  },
  {
   "cell_type": "code",
   "execution_count": 58,
   "metadata": {},
   "outputs": [],
   "source": [
    "df_list = [pd.read_csv(c,names=names) for c in dirname.glob(\"*.csv\")]"
   ]
  },
  {
   "cell_type": "code",
   "execution_count": 59,
   "metadata": {},
   "outputs": [
    {
     "name": "stdout",
     "output_type": "stream",
     "text": [
      "4481\n",
      "1756\n",
      "2977\n",
      "2605\n",
      "4683\n",
      "4169\n",
      "2844\n",
      "1798\n",
      "4423\n",
      "4532\n",
      "4515\n",
      "4040\n",
      "3706\n",
      "4341\n",
      "1841\n",
      "3196\n",
      "3742\n",
      "4665\n",
      "3227\n",
      "4787\n"
     ]
    }
   ],
   "source": [
    "for d in df_list:\n",
    "    print(len(d.index))"
   ]
  },
  {
   "cell_type": "code",
   "execution_count": 60,
   "metadata": {},
   "outputs": [],
   "source": [
    "df = pd.concat(df_list)"
   ]
  },
  {
   "cell_type": "code",
   "execution_count": 61,
   "metadata": {},
   "outputs": [
    {
     "data": {
      "text/html": [
       "<div>\n",
       "<style scoped>\n",
       "    .dataframe tbody tr th:only-of-type {\n",
       "        vertical-align: middle;\n",
       "    }\n",
       "\n",
       "    .dataframe tbody tr th {\n",
       "        vertical-align: top;\n",
       "    }\n",
       "\n",
       "    .dataframe thead th {\n",
       "        text-align: right;\n",
       "    }\n",
       "</style>\n",
       "<table border=\"1\" class=\"dataframe\">\n",
       "  <thead>\n",
       "    <tr style=\"text-align: right;\">\n",
       "      <th></th>\n",
       "      <th>rating</th>\n",
       "      <th>review</th>\n",
       "    </tr>\n",
       "  </thead>\n",
       "  <tbody>\n",
       "    <tr>\n",
       "      <th>0</th>\n",
       "      <td>5.0</td>\n",
       "      <td>クロックスの偽物サンダルは今やどこにでも売っていますが、昔買ったものはけっこう丈夫に出来てい...</td>\n",
       "    </tr>\n",
       "    <tr>\n",
       "      <th>1</th>\n",
       "      <td>4.0</td>\n",
       "      <td>とりあえずクロックスがほしかったので購入可もなく不可もなく、まあ普通ただ大きめなのでキッチリ...</td>\n",
       "    </tr>\n",
       "    <tr>\n",
       "      <th>2</th>\n",
       "      <td>5.0</td>\n",
       "      <td>セールで2,000円を切る価格だったので、また買ってしまった！見た目はBAYAに近いですが、...</td>\n",
       "    </tr>\n",
       "    <tr>\n",
       "      <th>3</th>\n",
       "      <td>5.0</td>\n",
       "      <td>サイズで悩んでましたがレビューで1cm小さいの買え！って書いてあったので半信半疑でいつもは2...</td>\n",
       "    </tr>\n",
       "    <tr>\n",
       "      <th>4</th>\n",
       "      <td>5.0</td>\n",
       "      <td>実は、クロックスは人気のサンダルメーカーであることを知らなかったのですが、履いてみて「なるほ...</td>\n",
       "    </tr>\n",
       "  </tbody>\n",
       "</table>\n",
       "</div>"
      ],
      "text/plain": [
       "   rating                                             review\n",
       "0     5.0  クロックスの偽物サンダルは今やどこにでも売っていますが、昔買ったものはけっこう丈夫に出来てい...\n",
       "1     4.0  とりあえずクロックスがほしかったので購入可もなく不可もなく、まあ普通ただ大きめなのでキッチリ...\n",
       "2     5.0  セールで2,000円を切る価格だったので、また買ってしまった！見た目はBAYAに近いですが、...\n",
       "3     5.0  サイズで悩んでましたがレビューで1cm小さいの買え！って書いてあったので半信半疑でいつもは2...\n",
       "4     5.0  実は、クロックスは人気のサンダルメーカーであることを知らなかったのですが、履いてみて「なるほ..."
      ]
     },
     "execution_count": 61,
     "metadata": {},
     "output_type": "execute_result"
    }
   ],
   "source": [
    "df.head()"
   ]
  },
  {
   "cell_type": "code",
   "execution_count": 62,
   "metadata": {},
   "outputs": [
    {
     "data": {
      "text/plain": [
       "72328"
      ]
     },
     "execution_count": 62,
     "metadata": {},
     "output_type": "execute_result"
    }
   ],
   "source": [
    "len(df.index)"
   ]
  },
  {
   "cell_type": "code",
   "execution_count": 63,
   "metadata": {},
   "outputs": [
    {
     "data": {
      "text/html": [
       "<div>\n",
       "<style scoped>\n",
       "    .dataframe tbody tr th:only-of-type {\n",
       "        vertical-align: middle;\n",
       "    }\n",
       "\n",
       "    .dataframe tbody tr th {\n",
       "        vertical-align: top;\n",
       "    }\n",
       "\n",
       "    .dataframe thead th {\n",
       "        text-align: right;\n",
       "    }\n",
       "</style>\n",
       "<table border=\"1\" class=\"dataframe\">\n",
       "  <thead>\n",
       "    <tr style=\"text-align: right;\">\n",
       "      <th></th>\n",
       "      <th>review</th>\n",
       "    </tr>\n",
       "    <tr>\n",
       "      <th>rating</th>\n",
       "      <th></th>\n",
       "    </tr>\n",
       "  </thead>\n",
       "  <tbody>\n",
       "    <tr>\n",
       "      <th>1.0</th>\n",
       "      <td>3240</td>\n",
       "    </tr>\n",
       "    <tr>\n",
       "      <th>2.0</th>\n",
       "      <td>2548</td>\n",
       "    </tr>\n",
       "    <tr>\n",
       "      <th>3.0</th>\n",
       "      <td>6752</td>\n",
       "    </tr>\n",
       "    <tr>\n",
       "      <th>4.0</th>\n",
       "      <td>16609</td>\n",
       "    </tr>\n",
       "    <tr>\n",
       "      <th>5.0</th>\n",
       "      <td>43179</td>\n",
       "    </tr>\n",
       "  </tbody>\n",
       "</table>\n",
       "</div>"
      ],
      "text/plain": [
       "        review\n",
       "rating        \n",
       "1.0       3240\n",
       "2.0       2548\n",
       "3.0       6752\n",
       "4.0      16609\n",
       "5.0      43179"
      ]
     },
     "execution_count": 63,
     "metadata": {},
     "output_type": "execute_result"
    }
   ],
   "source": [
    "df.groupby(\"rating\").count()"
   ]
  },
  {
   "cell_type": "code",
   "execution_count": 64,
   "metadata": {},
   "outputs": [],
   "source": [
    "#! mkdir data/amazon_ja"
   ]
  },
  {
   "cell_type": "code",
   "execution_count": 65,
   "metadata": {},
   "outputs": [
    {
     "data": {
      "application/vnd.jupyter.widget-view+json": {
       "model_id": "1d388341b25343ab9f8f7a0f8fa2f909",
       "version_major": 2,
       "version_minor": 0
      },
      "text/html": [
       "<p>Failed to display Jupyter Widget of type <code>HBox</code>.</p>\n",
       "<p>\n",
       "  If you're reading this message in the Jupyter Notebook or JupyterLab Notebook, it may mean\n",
       "  that the widgets JavaScript is still loading. If this message persists, it\n",
       "  likely means that the widgets JavaScript library is either not installed or\n",
       "  not enabled. See the <a href=\"https://ipywidgets.readthedocs.io/en/stable/user_install.html\">Jupyter\n",
       "  Widgets Documentation</a> for setup instructions.\n",
       "</p>\n",
       "<p>\n",
       "  If you're reading this message in another frontend (for example, a static\n",
       "  rendering on GitHub or <a href=\"https://nbviewer.jupyter.org/\">NBViewer</a>),\n",
       "  it may mean that your frontend doesn't currently support widgets.\n",
       "</p>\n"
      ],
      "text/plain": [
       "HBox(children=(IntProgress(value=0, max=72328), HTML(value='')))"
      ]
     },
     "metadata": {},
     "output_type": "display_data"
    },
    {
     "name": "stdout",
     "output_type": "stream",
     "text": [
      "\n"
     ]
    }
   ],
   "source": [
    "pos = []\n",
    "neg = []\n",
    "for r in tqdm(df.iterrows(), total=len(df.index)):\n",
    "    if r[1][\"rating\"] > 4:  #exclude 3, 4\n",
    "        pos.append(r[1][\"review\"])\n",
    "    elif r[1][\"rating\"] < 3:\n",
    "        neg.append(r[1][\"review\"])"
   ]
  },
  {
   "cell_type": "code",
   "execution_count": 66,
   "metadata": {},
   "outputs": [
    {
     "data": {
      "text/plain": [
       "43179"
      ]
     },
     "execution_count": 66,
     "metadata": {},
     "output_type": "execute_result"
    }
   ],
   "source": [
    "len(pos)"
   ]
  },
  {
   "cell_type": "code",
   "execution_count": 67,
   "metadata": {},
   "outputs": [
    {
     "data": {
      "text/plain": [
       "5788"
      ]
     },
     "execution_count": 67,
     "metadata": {},
     "output_type": "execute_result"
    }
   ],
   "source": [
    "len(neg)"
   ]
  },
  {
   "cell_type": "code",
   "execution_count": 68,
   "metadata": {},
   "outputs": [
    {
     "data": {
      "text/plain": [
       "0.13404664304407235"
      ]
     },
     "execution_count": 68,
     "metadata": {},
     "output_type": "execute_result"
    }
   ],
   "source": [
    "len(neg)/len(pos)"
   ]
  },
  {
   "cell_type": "code",
   "execution_count": 69,
   "metadata": {},
   "outputs": [],
   "source": [
    "#pos = pos[:len(neg)]"
   ]
  },
  {
   "cell_type": "code",
   "execution_count": 70,
   "metadata": {},
   "outputs": [],
   "source": [
    "dirname = \"data/amazon_ja\"\n",
    "from pathlib import Path\n",
    "dirname = Path(dirname)"
   ]
  },
  {
   "cell_type": "code",
   "execution_count": 71,
   "metadata": {},
   "outputs": [],
   "source": [
    "with open(dirname / \"neg.txt\", \"w\") as f:\n",
    "    for s in neg:\n",
    "        r = s + \"\\n\"\n",
    "        f.write(r)\n",
    "        \n",
    "with open(dirname / \"pos.txt\", \"w\") as f:\n",
    "    for s in pos:\n",
    "        r = s + \"\\n\"\n",
    "        f.write(r)"
   ]
  },
  {
   "cell_type": "code",
   "execution_count": 72,
   "metadata": {},
   "outputs": [
    {
     "name": "stdout",
     "output_type": "stream",
     "text": [
      "う～ん、表記のサイズは左右同じですが右だけ明らかに小さいものが届きました。。なのでサイズ感は左は丁度良く右はやや小さいです。。まぁ日本製じゃないですしこんなもんですよね。。\r\n",
      "25.0－25.5センチのサイズの靴やスニーカーを履いているので25センチを購入したが、人差し指1本･1センチほど大きいが24.0センチだと指が当たるだろうなと思う。24.5センチが欲しいところ。小走りも無理だろう。幅広サイズと思われるので横幅は当たっていない。街場よりも安く買えたので返品も勿体ないところだ。ちょい残念。車の運転だとどうなるかだ。\r\n",
      "Amazonが販売、発送するページから購入。履いてつま先側に力がかかる体勢の時に足に激痛が。痛む場所も同じだったから、昔釘を踏んで足になにか残ってるせいだと思ってましたが、先日友人が履いた時にも痛いと言うので調べたら、中に金属片が混入。裏をくの字に曲げて確認しても貫通したあとも無し。トゲ抜きでも全く抜けず。写真の様にカッターでゴムを切っていっても未だに抜けず。完全にゴムに混入してます。\r\n",
      "公式サイトで購入した正規品より１cm以上小さいです。Amazonで購入したものはAmazon販売・発送で、偽物とは思えないのですが・・。\r\n",
      "以前より小さくなったような印象。今使っている同じサイズで購入しましたが、かなりキツイ感じ・・・履いているうちに伸びるのかなぁ～\r\n",
      "他のクロックスと同じサイズなのに小さい。わざと小さいのを送ってきたのかというぐらい小さい\r\n",
      "小さすぎた。白色を選択しタガ、表示写真は本体、ベルト共に白だが、注文確定画面ではベルトが赤。こんなの見たことない。表示が現物と違う。巾も３Eも無いので、狭くて履けない。看板に偽りあり。サンダルの裏のサイズ表示は、10-12となっているので、数値の表示に違いはないので、注文は間違えていません。自分で履いてる物が痛み、買い替えのつもりがこれでは困る。返品交換は出来ないでしょ。　\r\n",
      "商品自体は良いですよ、クロックスでいつものクオリティです。箱開けたらタバコ臭いんです。Amazonでこんな事あるんですかね…。臭いが本当にダメなんで…サンダル自体にはタバコ臭ついてなかったから良いですけど、どこで倉庫管理してるんでしょう今の時代に考えられないです。\r\n",
      "実際のサイズより小さめ的な表記がほしかった！これを買う人は大きめのサイズおすすめします\r\n",
      "スプレーの勢いが全然感じられず、噴射時間も極端に短い。防水能力も期待したほどなく残念でした。\r\n"
     ]
    }
   ],
   "source": [
    "! head ./data/amazon_ja/neg.txt"
   ]
  },
  {
   "cell_type": "code",
   "execution_count": null,
   "metadata": {},
   "outputs": [],
   "source": []
  }
 ],
 "metadata": {
  "kernelspec": {
   "display_name": "Environment (conda_py3.6)",
   "language": "python",
   "name": "conda_py3.6"
  },
  "language_info": {
   "codemirror_mode": {
    "name": "ipython",
    "version": 3
   },
   "file_extension": ".py",
   "mimetype": "text/x-python",
   "name": "python",
   "nbconvert_exporter": "python",
   "pygments_lexer": "ipython3",
   "version": "3.6.4"
  }
 },
 "nbformat": 4,
 "nbformat_minor": 2
}
