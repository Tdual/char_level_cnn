{
 "cells": [
  {
   "cell_type": "code",
   "execution_count": 20,
   "metadata": {},
   "outputs": [],
   "source": [
    "import pandas as pd\n",
    "from pathlib import Path\n",
    "from tqdm import tqdm_notebook as tqdm"
   ]
  },
  {
   "cell_type": "code",
   "execution_count": 21,
   "metadata": {},
   "outputs": [],
   "source": [
    "dirname = \"data/amazon_ja\"\n",
    "dirname = Path(dirname)"
   ]
  },
  {
   "cell_type": "code",
   "execution_count": 22,
   "metadata": {},
   "outputs": [
    {
     "data": {
      "text/plain": [
       "[PosixPath('data/amazon_ja/review_dvd.csv'),\n",
       " PosixPath('data/amazon_ja/review_software.csv'),\n",
       " PosixPath('data/amazon_ja/review_musical-instruments.csv'),\n",
       " PosixPath('data/amazon_ja/review_videogames.csv'),\n",
       " PosixPath('data/amazon_ja/review_amazon-devices.csv'),\n",
       " PosixPath('data/amazon_ja/review_kitchen.csv'),\n",
       " PosixPath('data/amazon_ja/review_sports.csv'),\n",
       " PosixPath('data/amazon_ja/review_pet-supplies.csv'),\n",
       " PosixPath('data/amazon_ja/review_watch.csv'),\n",
       " PosixPath('data/amazon_ja/review.csv'),\n",
       " PosixPath('data/amazon_ja/review_diy.csv'),\n",
       " PosixPath('data/amazon_ja/review_books.csv'),\n",
       " PosixPath('data/amazon_ja/review_electronics.csv'),\n",
       " PosixPath('data/amazon_ja/review_toys.csv'),\n",
       " PosixPath('data/amazon_ja/review_beauty.csv')]"
      ]
     },
     "execution_count": 22,
     "metadata": {},
     "output_type": "execute_result"
    }
   ],
   "source": [
    "[c for c in dirname.glob(\"*.csv\")]"
   ]
  },
  {
   "cell_type": "code",
   "execution_count": 23,
   "metadata": {},
   "outputs": [],
   "source": [
    "names=[\"rating\", \"review\"]"
   ]
  },
  {
   "cell_type": "code",
   "execution_count": 24,
   "metadata": {},
   "outputs": [],
   "source": [
    "df_list = [pd.read_csv(c,names=names) for c in dirname.glob(\"*.csv\")]"
   ]
  },
  {
   "cell_type": "code",
   "execution_count": 25,
   "metadata": {},
   "outputs": [
    {
     "name": "stdout",
     "output_type": "stream",
     "text": [
      "61\n",
      "2605\n",
      "4169\n",
      "2844\n",
      "1798\n",
      "4423\n",
      "4532\n",
      "4515\n",
      "4040\n",
      "3706\n",
      "4341\n",
      "1841\n",
      "4665\n",
      "3227\n",
      "4787\n"
     ]
    }
   ],
   "source": [
    "for d in df_list:\n",
    "    print(len(d.index))"
   ]
  },
  {
   "cell_type": "code",
   "execution_count": 26,
   "metadata": {},
   "outputs": [],
   "source": [
    "df = pd.concat(df_list)"
   ]
  },
  {
   "cell_type": "code",
   "execution_count": 27,
   "metadata": {},
   "outputs": [
    {
     "data": {
      "text/html": [
       "<div>\n",
       "<style scoped>\n",
       "    .dataframe tbody tr th:only-of-type {\n",
       "        vertical-align: middle;\n",
       "    }\n",
       "\n",
       "    .dataframe tbody tr th {\n",
       "        vertical-align: top;\n",
       "    }\n",
       "\n",
       "    .dataframe thead th {\n",
       "        text-align: right;\n",
       "    }\n",
       "</style>\n",
       "<table border=\"1\" class=\"dataframe\">\n",
       "  <thead>\n",
       "    <tr style=\"text-align: right;\">\n",
       "      <th></th>\n",
       "      <th>rating</th>\n",
       "      <th>review</th>\n",
       "    </tr>\n",
       "  </thead>\n",
       "  <tbody>\n",
       "    <tr>\n",
       "      <th>0</th>\n",
       "      <td>5.0</td>\n",
       "      <td>目当ての映画がやっておらず、たまたまこの作品を観ることになりました。申し訳ないですが他のディ...</td>\n",
       "    </tr>\n",
       "    <tr>\n",
       "      <th>1</th>\n",
       "      <td>5.0</td>\n",
       "      <td>この映画を見たのは偶然だった。GWの最終日に何か映画を見ようとふらっと映画館によって目につい...</td>\n",
       "    </tr>\n",
       "    <tr>\n",
       "      <th>2</th>\n",
       "      <td>5.0</td>\n",
       "      <td>さすが「トイ・ストーリー３」の監督作！！リー・アンクリッチ監督は本当に見る者の心を引き付けて...</td>\n",
       "    </tr>\n",
       "    <tr>\n",
       "      <th>3</th>\n",
       "      <td>5.0</td>\n",
       "      <td>4DXにて観ました。映画館ではマリーゴールドの花の匂いと景色に感動しました。なんだか日本のお...</td>\n",
       "    </tr>\n",
       "    <tr>\n",
       "      <th>4</th>\n",
       "      <td>5.0</td>\n",
       "      <td>2017年のアメリカのピクサー・アニメーション・スタジオ製作による105分の映画。原題はCo...</td>\n",
       "    </tr>\n",
       "  </tbody>\n",
       "</table>\n",
       "</div>"
      ],
      "text/plain": [
       "   rating                                             review\n",
       "0     5.0  目当ての映画がやっておらず、たまたまこの作品を観ることになりました。申し訳ないですが他のディ...\n",
       "1     5.0  この映画を見たのは偶然だった。GWの最終日に何か映画を見ようとふらっと映画館によって目につい...\n",
       "2     5.0  さすが「トイ・ストーリー３」の監督作！！リー・アンクリッチ監督は本当に見る者の心を引き付けて...\n",
       "3     5.0  4DXにて観ました。映画館ではマリーゴールドの花の匂いと景色に感動しました。なんだか日本のお...\n",
       "4     5.0  2017年のアメリカのピクサー・アニメーション・スタジオ製作による105分の映画。原題はCo..."
      ]
     },
     "execution_count": 27,
     "metadata": {},
     "output_type": "execute_result"
    }
   ],
   "source": [
    "df.head()"
   ]
  },
  {
   "cell_type": "code",
   "execution_count": 28,
   "metadata": {},
   "outputs": [
    {
     "data": {
      "text/plain": [
       "51554"
      ]
     },
     "execution_count": 28,
     "metadata": {},
     "output_type": "execute_result"
    }
   ],
   "source": [
    "len(df.index)"
   ]
  },
  {
   "cell_type": "code",
   "execution_count": 29,
   "metadata": {},
   "outputs": [
    {
     "data": {
      "text/html": [
       "<div>\n",
       "<style scoped>\n",
       "    .dataframe tbody tr th:only-of-type {\n",
       "        vertical-align: middle;\n",
       "    }\n",
       "\n",
       "    .dataframe tbody tr th {\n",
       "        vertical-align: top;\n",
       "    }\n",
       "\n",
       "    .dataframe thead th {\n",
       "        text-align: right;\n",
       "    }\n",
       "</style>\n",
       "<table border=\"1\" class=\"dataframe\">\n",
       "  <thead>\n",
       "    <tr style=\"text-align: right;\">\n",
       "      <th></th>\n",
       "      <th>review</th>\n",
       "    </tr>\n",
       "    <tr>\n",
       "      <th>rating</th>\n",
       "      <th></th>\n",
       "    </tr>\n",
       "  </thead>\n",
       "  <tbody>\n",
       "    <tr>\n",
       "      <th>1.0</th>\n",
       "      <td>2259</td>\n",
       "    </tr>\n",
       "    <tr>\n",
       "      <th>2.0</th>\n",
       "      <td>1743</td>\n",
       "    </tr>\n",
       "    <tr>\n",
       "      <th>3.0</th>\n",
       "      <td>4532</td>\n",
       "    </tr>\n",
       "    <tr>\n",
       "      <th>4.0</th>\n",
       "      <td>11814</td>\n",
       "    </tr>\n",
       "    <tr>\n",
       "      <th>5.0</th>\n",
       "      <td>31206</td>\n",
       "    </tr>\n",
       "  </tbody>\n",
       "</table>\n",
       "</div>"
      ],
      "text/plain": [
       "        review\n",
       "rating        \n",
       "1.0       2259\n",
       "2.0       1743\n",
       "3.0       4532\n",
       "4.0      11814\n",
       "5.0      31206"
      ]
     },
     "execution_count": 29,
     "metadata": {},
     "output_type": "execute_result"
    }
   ],
   "source": [
    "df.groupby(\"rating\").count()"
   ]
  },
  {
   "cell_type": "code",
   "execution_count": 30,
   "metadata": {},
   "outputs": [],
   "source": [
    "#! mkdir data/amazon_ja"
   ]
  },
  {
   "cell_type": "code",
   "execution_count": 31,
   "metadata": {},
   "outputs": [
    {
     "data": {
      "application/vnd.jupyter.widget-view+json": {
       "model_id": "1944efbbedf647f5a8b6a469ae88a9bd",
       "version_major": 2,
       "version_minor": 0
      },
      "text/html": [
       "<p>Failed to display Jupyter Widget of type <code>HBox</code>.</p>\n",
       "<p>\n",
       "  If you're reading this message in the Jupyter Notebook or JupyterLab Notebook, it may mean\n",
       "  that the widgets JavaScript is still loading. If this message persists, it\n",
       "  likely means that the widgets JavaScript library is either not installed or\n",
       "  not enabled. See the <a href=\"https://ipywidgets.readthedocs.io/en/stable/user_install.html\">Jupyter\n",
       "  Widgets Documentation</a> for setup instructions.\n",
       "</p>\n",
       "<p>\n",
       "  If you're reading this message in another frontend (for example, a static\n",
       "  rendering on GitHub or <a href=\"https://nbviewer.jupyter.org/\">NBViewer</a>),\n",
       "  it may mean that your frontend doesn't currently support widgets.\n",
       "</p>\n"
      ],
      "text/plain": [
       "HBox(children=(IntProgress(value=0, max=51554), HTML(value='')))"
      ]
     },
     "metadata": {},
     "output_type": "display_data"
    },
    {
     "name": "stdout",
     "output_type": "stream",
     "text": [
      "\n"
     ]
    }
   ],
   "source": [
    "pos = []\n",
    "neg = []\n",
    "for r in tqdm(df.iterrows(), total=len(df.index)):\n",
    "    if r[1][\"rating\"] > 4:  #exclude 3, 4\n",
    "        pos.append(r[1][\"review\"])\n",
    "    elif r[1][\"rating\"] < 3:\n",
    "        neg.append(r[1][\"review\"])"
   ]
  },
  {
   "cell_type": "code",
   "execution_count": 32,
   "metadata": {},
   "outputs": [
    {
     "data": {
      "text/plain": [
       "31206"
      ]
     },
     "execution_count": 32,
     "metadata": {},
     "output_type": "execute_result"
    }
   ],
   "source": [
    "len(pos)"
   ]
  },
  {
   "cell_type": "code",
   "execution_count": 33,
   "metadata": {},
   "outputs": [
    {
     "data": {
      "text/plain": [
       "4002"
      ]
     },
     "execution_count": 33,
     "metadata": {},
     "output_type": "execute_result"
    }
   ],
   "source": [
    "len(neg)"
   ]
  },
  {
   "cell_type": "code",
   "execution_count": 34,
   "metadata": {},
   "outputs": [
    {
     "data": {
      "text/plain": [
       "0.12824456835223996"
      ]
     },
     "execution_count": 34,
     "metadata": {},
     "output_type": "execute_result"
    }
   ],
   "source": [
    "len(neg)/len(pos)"
   ]
  },
  {
   "cell_type": "code",
   "execution_count": 35,
   "metadata": {},
   "outputs": [],
   "source": [
    "#pos = pos[:len(neg)]"
   ]
  },
  {
   "cell_type": "code",
   "execution_count": 36,
   "metadata": {},
   "outputs": [],
   "source": [
    "dirname = \"data/amazon_ja\"\n",
    "from pathlib import Path\n",
    "dirname = Path(dirname)"
   ]
  },
  {
   "cell_type": "code",
   "execution_count": 37,
   "metadata": {},
   "outputs": [],
   "source": [
    "with open(dirname / \"neg.txt\", \"w\") as f:\n",
    "    for s in neg:\n",
    "        r = s + \"\\n\"\n",
    "        f.write(r)\n",
    "        \n",
    "with open(dirname / \"pos.txt\", \"w\") as f:\n",
    "    for s in pos:\n",
    "        r = s + \"\\n\"\n",
    "        f.write(r)"
   ]
  },
  {
   "cell_type": "code",
   "execution_count": 38,
   "metadata": {},
   "outputs": [
    {
     "name": "stdout",
     "output_type": "stream",
     "text": [
      "これ観た人は、ブック・オブ・ライフ観てるんですかね…。良いんですけど…。\r\n",
      "個人的にMovieNEX最大の旨味であるデジタルコピーがとても不便になってしまいました。今までMCU作品(特にディズニー権限の作品)はプライムビデオでもプライム会員限定に追加されないので、外出時の時間を潰すにはデジタルコピーが大変便利でした。その際私はniconicoDRMのプラットフォームで見てました。しかし2018年7月以降発売の作品に関しては、もう一方のプラットフォームであるGoogle Playでのみの視聴となってしまいました。さらにGoogleでは吹替版のみの視聴です(niconicoでは吹替も字幕も視聴可能)。さらにさらに、コードは1回のみの使用で、niconicoで登録したコードはGoogleでは使えないのです。つまり、niconicoとGoogleの２つのアプリを使い分け、しかもブラックパンサーに関しては吹替のみの視聴になります。細かいことかもしれませんが一気にめんどくさくなりました。本当に残念です。そしてここから予想されるさらに残念なこととして、MCU次作のインフィニティ・ウォーもデジタルコピーでは吹替のみの視聴になると考えられます。家で字幕版を見れば済む話ですが、今までが便利だっただけに今回は非常に非常に残念でなりません。どうか改善していただきたいものです。\r\n",
      "劇場でも感じましたが、やはり退屈で飽きる映画ですね。コミック原作があるから逸脱出来ないんでしょうが、ハーブドラッグ飲んだら超人って所からして説得力ゼロ。車に乗らずに屋根に乗るのがデフォとか笑える要素も有りましたが、全体を通してすごいのは神秘の力のせい！みたいなやっつけプロットがいい加減すぎるかな。\r\n",
      "マーベルシリーズは面白いと見ましたが･･･アメリカンコミックを知らないのと･･･いきなりのアクション展開がわからなかったです「ワンダーウーマン」の様な敵がはっきりしていて時代背景もわかりやすい設定がよかった！CGでなんでもつくらずに「ミッションインパッシブル」の様な体を張った映画が今後も出ますように･････････････････合掌\r\n",
      "夏に向けての発売はタイトルとも相まってわくわくさせてもらえました。one、kanon、air、ぎりぎりCLANNADまで楽しめた層としてはリトルバスターズ、リライトと、もうついていけないと思ってた方はそうなのかもしれません。せめて紙芝居を超えた見栄えであればまた違った味わいが生まれていたのかも。\r\n",
      "※最終評価　☆1・Record 100%達成して何も追加無し付属の冊子を読んだらダーマエも同じようなコメント残してて問題は認識しているようなので、シャーロット・サマポケと産廃を連続で生み出したことを反省して、次作は本格復帰するなりまともな作品にしてほしい。※Pocketsまでクリアして　☆1・シナリオボリュームが全然ない・サブキャラシナリオもあとで解放されるのかなと思ったらそれもなし（見切り発車して、最近得意の完全版商法で追加の可能性はある）・結局終始予想された通りの展開が続きそのまま完結（個別ルート：あーこの子普段何やってるのか分からないから重要キャラなんだろうな～　→段々キャラ変わってるしこれも何かの伏線なんだろうなあ　→ALKA：〇〇で〇〇に〇って、〇〇を〇き〇えるんだろうな～　→Pockets：でも結局二人は出会うってENDなんだろうなあ）Keyは世代交代出来ませんでしたって如実に語っている作品まだ気づいていない隠れシナリオやサブルートがあるかもしれないので暫定☆1※2ルートクリア時評価　☆2・とにかくギャグパートがつまらない・キャラもどこかで見たkeyキャラの劣化使いまわし・ストーリーも凡庸で感動ポイント無しとりあえずタイトル画面のキャラが全員消えてからが本番だと思うので我慢して残り2ルートクリアしますこれから盛り上がるんだと期待を込めて☆2\r\n",
      "ウイルスバスターでは検出できなかったウイルスを4件検出駆除できました。ただしこのバージョンではメールアドレス、パスワード等はガードしてくれません。注意が必要です。すでにスキミングウイルスに冒されていたのでウイルスバスターでは守っていてくれた個人情報を又盗まれました。ガードしてくれるのは1台1年版80０0円ほどするESETプレミアムが必要です。このバージョンではウイルスに侵入されたら好き放題に盗まれていても気がつきません。プレミアムのガード方法もHDを暗号化して守るそうで、盗む相手が暗号を解く方法を知っていれば意味をなしません。\r\n",
      "本当にクソ、サポートはもっとクソ。市場から退場しろと言いたい。本当にアタマにくる。スタバなどで起動してWiFi掴むとESETに再起動を強要されてPCが使いモノにならなくなる。ESETがウイルスそのもの。ほとんど犯罪。サポートに連絡してもトンチンカン極まりなく、こちらが詳しく技術説明するハメになってどちらがサポートなのかわからなくなる。金払って買ったのに、サポートのサポートをさせられてタダ働きさせられるハメに。また、現象を再現する環境すら持っておらず、いつまでたっても問題特定すらできない。無能にも程がある。本当にハラワタにえくり返る。もう限界。開発元も怪しい国の会社だし、サポートやってるのは、あの悪評高いキャノン。自分のビジネス最優先で、お客のことなど後回し。プリンターの他社インク排除でも周知の通り無理矢理お客や市場を支配しようとするくせに何かあっても無能でサポートすらできない。なら、支配するなと言いたい。macも古くは代理店がキャノンだったけど、その時代はサポートに連絡するのも憂鬱だった。こんな具合だから安いんだろうね。ノートンと同じ値段なら、誰も買わないからね。\r\n",
      "こちらの商品を買い、imacにbootcampでインストールしようとしたところ出来ませんでした。High sierra 10.13.2ではBootcampが対応していないようです。これから買う人は注意してください。\r\n",
      "Boot Campを使用し、マックにWindows入れました。今のところ問題なく起動します。しかし容量が大きいすぎるので、マックには基本10は入れない方がいいです。失敗しました。しかも、エクセルなども内蔵ではなく失敗ですよ。何も知らずに購入してしまいました。\r\n"
     ]
    }
   ],
   "source": [
    "! head ./data/amazon_ja/neg.txt"
   ]
  },
  {
   "cell_type": "code",
   "execution_count": null,
   "metadata": {},
   "outputs": [],
   "source": []
  }
 ],
 "metadata": {
  "kernelspec": {
   "display_name": "Environment (conda_py3.6)",
   "language": "python",
   "name": "conda_py3.6"
  },
  "language_info": {
   "codemirror_mode": {
    "name": "ipython",
    "version": 3
   },
   "file_extension": ".py",
   "mimetype": "text/x-python",
   "name": "python",
   "nbconvert_exporter": "python",
   "pygments_lexer": "ipython3",
   "version": "3.6.4"
  }
 },
 "nbformat": 4,
 "nbformat_minor": 2
}
