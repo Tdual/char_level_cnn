{
 "cells": [
  {
   "cell_type": "code",
   "execution_count": 20,
   "metadata": {},
   "outputs": [],
   "source": [
    "import pandas as pd\n",
    "from pathlib import Path"
   ]
  },
  {
   "cell_type": "code",
   "execution_count": 21,
   "metadata": {},
   "outputs": [],
   "source": [
    "dirname = \"data/amazon_ja\"\n",
    "dirname = Path(dirname)"
   ]
  },
  {
   "cell_type": "code",
   "execution_count": 22,
   "metadata": {},
   "outputs": [],
   "source": [
    "df_ap = pd.read_csv(dirname / \"review.csv\",names=[\"rating\", \"review\"])\n",
    "df_book = pd.read_csv(dirname /\"review_books.csv\",names=[\"rating\", \"review\"])\n",
    "df_game = pd.read_csv(dirname /\"review_videogames.csv\",names=[\"rating\", \"review\"])\n",
    "df_kichen = pd.read_csv(dirname /\"review_kitchen.csv\",names=[\"rating\", \"review\"])\n",
    "df_ele = pd.read_csv(dirname /\"review_electronics.csv\",names=[\"rating\", \"review\"])\n",
    "df_music = pd.read_csv(dirname /\"review_musical-instruments.csv\",names=[\"rating\", \"review\"])\n",
    "df_diy = pd.read_csv(dirname /\"review_diy.csv\",names=[\"rating\", \"review\"])\n",
    "df_sports = pd.read_csv(dirname /\"review_sports.csv\",names=[\"rating\", \"review\"])\n",
    "df_toys = pd.read_csv(dirname /\"review_toys.csv\",names=[\"rating\", \"review\"])"
   ]
  },
  {
   "cell_type": "code",
   "execution_count": 23,
   "metadata": {},
   "outputs": [],
   "source": [
    "df_list = [df_toys, df_sports, df_diy, df_music, df_ele, df_kichen,df_book,df_ap,df_game]"
   ]
  },
  {
   "cell_type": "code",
   "execution_count": 24,
   "metadata": {},
   "outputs": [
    {
     "name": "stdout",
     "output_type": "stream",
     "text": [
      "3227\n",
      "4532\n",
      "4341\n",
      "4169\n",
      "4665\n",
      "4423\n",
      "1841\n",
      "3706\n",
      "2844\n"
     ]
    }
   ],
   "source": [
    "for d in df_list:\n",
    "    print(len(d.index))"
   ]
  },
  {
   "cell_type": "code",
   "execution_count": 27,
   "metadata": {},
   "outputs": [],
   "source": [
    "df = pd.concat(df_list)"
   ]
  },
  {
   "cell_type": "code",
   "execution_count": 28,
   "metadata": {},
   "outputs": [
    {
     "data": {
      "text/html": [
       "<div>\n",
       "<style scoped>\n",
       "    .dataframe tbody tr th:only-of-type {\n",
       "        vertical-align: middle;\n",
       "    }\n",
       "\n",
       "    .dataframe tbody tr th {\n",
       "        vertical-align: top;\n",
       "    }\n",
       "\n",
       "    .dataframe thead th {\n",
       "        text-align: right;\n",
       "    }\n",
       "</style>\n",
       "<table border=\"1\" class=\"dataframe\">\n",
       "  <thead>\n",
       "    <tr style=\"text-align: right;\">\n",
       "      <th></th>\n",
       "      <th>rating</th>\n",
       "      <th>review</th>\n",
       "    </tr>\n",
       "  </thead>\n",
       "  <tbody>\n",
       "    <tr>\n",
       "      <th>0</th>\n",
       "      <td>4.0</td>\n",
       "      <td>皆さんのたくさんのレビューを読み、評価の低いレビューもあったのでかなり迷いましたが、、値段も...</td>\n",
       "    </tr>\n",
       "    <tr>\n",
       "      <th>1</th>\n",
       "      <td>5.0</td>\n",
       "      <td>夏の子ども用プールに使うため購入しました。朝、水を張ってプールの水温を上げたいのですが、音は...</td>\n",
       "    </tr>\n",
       "    <tr>\n",
       "      <th>2</th>\n",
       "      <td>5.0</td>\n",
       "      <td>サンシェードプールと同時購入しました。今まではミニサイズのプールを使っていて、足踏み式のポン...</td>\n",
       "    </tr>\n",
       "    <tr>\n",
       "      <th>3</th>\n",
       "      <td>5.0</td>\n",
       "      <td>ハンディー掃除機のモーターみたいなものです。掃除機の吸うと排気を活用した感じ。作動音はハンデ...</td>\n",
       "    </tr>\n",
       "    <tr>\n",
       "      <th>4</th>\n",
       "      <td>5.0</td>\n",
       "      <td>シングルサイズエアベットなら、３０秒で膨らみます。これの電池方式ももっていますが、それだと５...</td>\n",
       "    </tr>\n",
       "  </tbody>\n",
       "</table>\n",
       "</div>"
      ],
      "text/plain": [
       "   rating                                             review\n",
       "0     4.0  皆さんのたくさんのレビューを読み、評価の低いレビューもあったのでかなり迷いましたが、、値段も...\n",
       "1     5.0  夏の子ども用プールに使うため購入しました。朝、水を張ってプールの水温を上げたいのですが、音は...\n",
       "2     5.0  サンシェードプールと同時購入しました。今まではミニサイズのプールを使っていて、足踏み式のポン...\n",
       "3     5.0  ハンディー掃除機のモーターみたいなものです。掃除機の吸うと排気を活用した感じ。作動音はハンデ...\n",
       "4     5.0  シングルサイズエアベットなら、３０秒で膨らみます。これの電池方式ももっていますが、それだと５..."
      ]
     },
     "execution_count": 28,
     "metadata": {},
     "output_type": "execute_result"
    }
   ],
   "source": [
    "df.head()"
   ]
  },
  {
   "cell_type": "code",
   "execution_count": 29,
   "metadata": {},
   "outputs": [
    {
     "data": {
      "text/plain": [
       "33748"
      ]
     },
     "execution_count": 29,
     "metadata": {},
     "output_type": "execute_result"
    }
   ],
   "source": [
    "len(df.index)"
   ]
  },
  {
   "cell_type": "code",
   "execution_count": 30,
   "metadata": {},
   "outputs": [
    {
     "data": {
      "text/html": [
       "<div>\n",
       "<style scoped>\n",
       "    .dataframe tbody tr th:only-of-type {\n",
       "        vertical-align: middle;\n",
       "    }\n",
       "\n",
       "    .dataframe tbody tr th {\n",
       "        vertical-align: top;\n",
       "    }\n",
       "\n",
       "    .dataframe thead th {\n",
       "        text-align: right;\n",
       "    }\n",
       "</style>\n",
       "<table border=\"1\" class=\"dataframe\">\n",
       "  <thead>\n",
       "    <tr style=\"text-align: right;\">\n",
       "      <th></th>\n",
       "      <th>review</th>\n",
       "    </tr>\n",
       "    <tr>\n",
       "      <th>rating</th>\n",
       "      <th></th>\n",
       "    </tr>\n",
       "  </thead>\n",
       "  <tbody>\n",
       "    <tr>\n",
       "      <th>1.0</th>\n",
       "      <td>1492</td>\n",
       "    </tr>\n",
       "    <tr>\n",
       "      <th>2.0</th>\n",
       "      <td>1117</td>\n",
       "    </tr>\n",
       "    <tr>\n",
       "      <th>3.0</th>\n",
       "      <td>2764</td>\n",
       "    </tr>\n",
       "    <tr>\n",
       "      <th>4.0</th>\n",
       "      <td>7488</td>\n",
       "    </tr>\n",
       "    <tr>\n",
       "      <th>5.0</th>\n",
       "      <td>20887</td>\n",
       "    </tr>\n",
       "  </tbody>\n",
       "</table>\n",
       "</div>"
      ],
      "text/plain": [
       "        review\n",
       "rating        \n",
       "1.0       1492\n",
       "2.0       1117\n",
       "3.0       2764\n",
       "4.0       7488\n",
       "5.0      20887"
      ]
     },
     "execution_count": 30,
     "metadata": {},
     "output_type": "execute_result"
    }
   ],
   "source": [
    "df.groupby(\"rating\").count()"
   ]
  },
  {
   "cell_type": "code",
   "execution_count": 31,
   "metadata": {},
   "outputs": [],
   "source": [
    "#! mkdir data/amazon_ja"
   ]
  },
  {
   "cell_type": "code",
   "execution_count": 32,
   "metadata": {},
   "outputs": [],
   "source": [
    "pos = []\n",
    "neg = []\n",
    "for r in df.iterrows():\n",
    "    if r[1][\"rating\"] > 4:  #exclude 4\n",
    "        pos.append(r[1][\"review\"])\n",
    "    elif r[1][\"rating\"] < 4:\n",
    "        neg.append(r[1][\"review\"])"
   ]
  },
  {
   "cell_type": "code",
   "execution_count": 33,
   "metadata": {},
   "outputs": [
    {
     "data": {
      "text/plain": [
       "20887"
      ]
     },
     "execution_count": 33,
     "metadata": {},
     "output_type": "execute_result"
    }
   ],
   "source": [
    "len(pos)"
   ]
  },
  {
   "cell_type": "code",
   "execution_count": 34,
   "metadata": {},
   "outputs": [
    {
     "data": {
      "text/plain": [
       "5373"
      ]
     },
     "execution_count": 34,
     "metadata": {},
     "output_type": "execute_result"
    }
   ],
   "source": [
    "len(neg)"
   ]
  },
  {
   "cell_type": "code",
   "execution_count": 35,
   "metadata": {},
   "outputs": [
    {
     "data": {
      "text/plain": [
       "0.25724134629195194"
      ]
     },
     "execution_count": 35,
     "metadata": {},
     "output_type": "execute_result"
    }
   ],
   "source": [
    "len(neg)/len(pos)"
   ]
  },
  {
   "cell_type": "code",
   "execution_count": 36,
   "metadata": {},
   "outputs": [],
   "source": [
    "dirname = \"data/amazon_ja\"\n",
    "from pathlib import Path\n",
    "dirname = Path(dirname)"
   ]
  },
  {
   "cell_type": "code",
   "execution_count": 37,
   "metadata": {},
   "outputs": [],
   "source": [
    "with open(dirname / \"neg.txt\", \"w\") as f:\n",
    "    for s in neg:\n",
    "        r = s + \"\\n\"\n",
    "        f.write(r)\n",
    "        \n",
    "with open(dirname / \"pos.txt\", \"w\") as f:\n",
    "    for s in pos:\n",
    "        r = s + \"\\n\"\n",
    "        f.write(r)"
   ]
  },
  {
   "cell_type": "code",
   "execution_count": 38,
   "metadata": {},
   "outputs": [
    {
     "name": "stdout",
     "output_type": "stream",
     "text": [
      "音がかなり大きいのとすぐ熱を持ちますが、使えます。ただ熱を持ちすぎるのでちょっと心配です、、、\r\n",
      "FIELDOORのクイーンサイズのエアーベッド用に購入しました。特に使い心地は悪くないのですが、エアー注入時に本体を置いて入れ様とすると、排気口が下になるので、置いた状態での注入が出来ないのがネックです。\r\n",
      "子供用プールの空気入れ、空気抜きの為に購入しました。空気入れ、空気抜きの性能は問題ないのですが、いかんせんうるさいです。学校の黒板消しクリーナーの音に似てます。近所迷惑なので外で使いにくいです。\r\n",
      "かなり大きなモーター音がなります。掃除機の音より大きいです。8人以上入れるプールを膨らます用に買いましたが、15分以上かかった気がします。\r\n",
      "電動エアポンプを初めて使うので比較できませんが、差込口が長すぎて、プールの吸入口に収まらず押さえながらじゃないと空気が入らないので、少々面倒くさいです。手動で入れるよりは断然いいのですが、その点残念だったので3点にします\r\n",
      "大型のプールには使えましたが、その後浮き輪や腕輪に使えず口でふくらますはめに。何で使えないの？プールは早くふくらんで重宝しました。\r\n",
      "購入してから1年もたっておらず、まだ数回しか使用していないにも関わらず発光しなくなってしまいました。落とした覚えもないですし、保証期間が半年だけなので修理もできず、高い買い物でした……。\r\n",
      "機種変更したら使えなくなりました。イヤフォンが何らかの形で繋がる機種なら何でも使えるようになぜできないのか教えて欲しいです。\r\n",
      "評判が良かったので購入しましたが数回使っただけで一色にしか光らなくなりました電池が切れたのかと思い新しいのに交換してもダメでした最初は使い勝手が良かっただけに残念です\r\n",
      "ライブ中にチューブが飛んだり、電池の蓋が外れたり、思いのほか気疲れします。外観の仕様は、もう少し強化されることを望みます。あと、ネジが壊れたので、替えが欲しいです。\r\n"
     ]
    }
   ],
   "source": [
    "! head ./data/amazon_ja/neg.txt"
   ]
  },
  {
   "cell_type": "code",
   "execution_count": null,
   "metadata": {},
   "outputs": [],
   "source": []
  }
 ],
 "metadata": {
  "kernelspec": {
   "display_name": "Environment (conda_py3.6)",
   "language": "python",
   "name": "conda_py3.6"
  },
  "language_info": {
   "codemirror_mode": {
    "name": "ipython",
    "version": 3
   },
   "file_extension": ".py",
   "mimetype": "text/x-python",
   "name": "python",
   "nbconvert_exporter": "python",
   "pygments_lexer": "ipython3",
   "version": "3.6.4"
  }
 },
 "nbformat": 4,
 "nbformat_minor": 2
}
